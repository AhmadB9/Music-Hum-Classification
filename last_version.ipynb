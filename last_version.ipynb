{
 "cells": [
  {
   "cell_type": "code",
   "execution_count": 1,
   "id": "018d6313",
   "metadata": {},
   "outputs": [],
   "source": [
    "import librosa\n",
    "import numpy as np\n",
    "import os"
   ]
  },
  {
   "cell_type": "code",
   "execution_count": 3,
   "id": "1e984654",
   "metadata": {},
   "outputs": [],
   "source": [
    "import matplotlib.pyplot as plt\n",
    "from keras.models import Sequential\n",
    "from keras.layers import Conv1D, MaxPooling1D, Flatten, Dense, Dropout\n",
    "from tensorflow.keras import models, layers, regularizers, optimizers, callbacks"
   ]
  },
  {
   "cell_type": "code",
   "execution_count": 4,
   "id": "67293092",
   "metadata": {},
   "outputs": [],
   "source": [
    "def normalize_spectrogram(spec):\n",
    "    # Normalize the spectrogram by subtracting the mean and dividing by the standard deviation\n",
    "    mean = np.mean(spec)\n",
    "    std = np.std(spec)\n",
    "    normalized_spec = (spec - mean) / std\n",
    "    return normalized_spec"
   ]
  },
  {
   "cell_type": "code",
   "execution_count": 5,
   "id": "6d617ca3",
   "metadata": {},
   "outputs": [],
   "source": [
    "def load_audio_and_extract_spectrogram(audio_file,duration=5, n_mels=128, hop_length=512):\n",
    "\n",
    "    if not os.path.exists(audio_file):\n",
    "        print(f\"Error: File '{audio_file}' not found.\")\n",
    "        return None\n",
    "    else:\n",
    "        try:\n",
    "            # Load audio file\n",
    "            y, sr = librosa.load(audio_file,duration=duration)\n",
    "\n",
    "            # Extract Mel spectrogram\n",
    "            mel_spectrogram = librosa.feature.melspectrogram(y=y, sr=sr, n_mels=n_mels, hop_length=hop_length)\n",
    "            \n",
    "          \n",
    "            # Convert to dB scale\n",
    "            mel_spectrogram_db = librosa.power_to_db(mel_spectrogram, ref=np.max)\n",
    "            #Normalize spectogram\n",
    "            norm_spectogram=normalize_spectrogram(mel_spectrogram_db)\n",
    "            \n",
    "            # Transpose to have time steps as the first dimension (compatible with Conv1D input)\n",
    "            norm_spectogram = norm_spectogram.T\n",
    "\n",
    "            return norm_spectogram\n",
    "\n",
    "        \n",
    "        except Exception as e:\n",
    "            print(f\"Error encountered while processing '{audio_file}': {e}\")\n",
    "            return None\n"
   ]
  },
  {
   "cell_type": "code",
   "execution_count": null,
   "id": "5d36917b",
   "metadata": {},
   "outputs": [],
   "source": [
    "def augment_audio(audio, sr, noise_prob=0.5, time_shift_prob=0.5, pitch_shift_prob=0.5, time_stretch_prob=0.5, random_seed=None):\n",
    "    if random_seed is not None:\n",
    "        np.random.seed(random_seed)\n",
    "\n",
    "    augmented_audio = audio.copy()  # Convert to NumPy array if not already\n",
    "    original_length = len(augmented_audio)\n",
    "\n",
    "    # Add white noise\n",
    "    if np.random.rand() < noise_prob:\n",
    "        augmented_audio += np.random.randn(original_length) * 0.05  # Adjust noise factor as needed\n",
    "\n",
    "    # Add Gaussian noise\n",
    "    if np.random.rand() < noise_prob:\n",
    "        augmented_audio += np.random.normal(0, 1, original_length) * 0.005  # Adjust noise factor as needed\n",
    "\n",
    "    # Time shifting\n",
    "    if np.random.rand() < time_shift_prob:\n",
    "        shift = int(np.random.uniform(-0.5, 0.5) * sr)  # Adjust time shift range as needed\n",
    "        augmented_audio = np.roll(augmented_audio, shift)\n",
    "        if shift > 0:\n",
    "            augmented_audio[:shift] = 0\n",
    "        else:\n",
    "            augmented_audio[shift:] = 0\n",
    "        # Pad or truncate to maintain original length\n",
    "        augmented_audio = np.pad(augmented_audio, (0, max(0, original_length - len(augmented_audio))), mode='constant')\n",
    "        augmented_audio = augmented_audio[:original_length]\n",
    "\n",
    "    # Pitch shifting\n",
    "    if np.random.rand() < pitch_shift_prob:\n",
    "        n_steps = np.random.uniform(-2, 2)  # Adjust pitch shift range as needed\n",
    "        augmented_audio = librosa.effects.pitch_shift(augmented_audio, sr=sr, n_steps=n_steps)\n",
    "\n",
    "    # Time stretching\n",
    "    if np.random.rand() < time_stretch_prob:\n",
    "        rate = np.random.uniform(0.8, 1.2)  # Adjust time stretch range as needed\n",
    "        stretched_audio = librosa.effects.time_stretch(augmented_audio, rate=rate)\n",
    "        # Pad or truncate to maintain original length\n",
    "        augmented_audio = np.pad(stretched_audio, (0, max(0, original_length - len(stretched_audio))), mode='constant')\n",
    "        augmented_audio = augmented_audio[:original_length]\n",
    "\n",
    "    return augmented_audio"
   ]
  },
  {
   "cell_type": "code",
   "execution_count": null,
   "id": "3b0392cf",
   "metadata": {},
   "outputs": [],
   "source": [
    "def pad_matrix(matrix):\n",
    "    target_shape = (216, 128)\n",
    "    \n",
    "    # Check if the matrix already has the target shape\n",
    "    if matrix.shape == target_shape:\n",
    "        return matrix\n",
    "    \n",
    "    padded_matrix = np.zeros(target_shape)\n",
    "    original_shape = matrix.shape\n",
    "    \n",
    "    # Calculate padding widths\n",
    "    pad_width = ((0, target_shape[0] - original_shape[0]), \n",
    "                 (0, target_shape[1] - original_shape[1]))\n",
    "    \n",
    "    # Pad the matrix\n",
    "    padded_matrix[:original_shape[0], :original_shape[1]] = matrix\n",
    "    \n",
    "    return padded_matrix"
   ]
  },
  {
   "cell_type": "code",
   "execution_count": null,
   "id": "5fa8446a",
   "metadata": {},
   "outputs": [],
   "source": [
    "def load_audio_augmented_and_extract_spectrogram(audio_file, duration=5, n_mels=128, hop_length=512):\n",
    "    if not os.path.exists(audio_file):\n",
    "        print(f\"Error: File '{audio_file}' not found.\")\n",
    "        return None\n",
    "    else:\n",
    "        try:\n",
    "            # Load audio file\n",
    "            y, sr = librosa.load(audio_file,duration=duration)\n",
    "            y=augment_audio(y,sr)\n",
    "            # Extract Mel spectrogram\n",
    "            mel_spectrogram = librosa.feature.melspectrogram(y=y, sr=sr, n_mels=n_mels, hop_length=hop_length)\n",
    "            # Convert to dB scale\n",
    "            mel_spectrogram_db = librosa.power_to_db(mel_spectrogram, ref=np.max)\n",
    "            #Normalize spectogram\n",
    "            norm_spectogram=normalize_spectrogram(mel_spectrogram_db)\n",
    "            # Transpose to have time steps as the first dimension (compatible with Conv1D input)\n",
    "            norm_spectogram = norm_spectogram.T\n",
    "            return norm_spectogram\n",
    "        \n",
    "        except Exception as e:\n",
    "            print(f\"Error encountered while processing '{audio_file}': {e}\")\n",
    "            return None\n"
   ]
  },
  {
   "cell_type": "code",
   "execution_count": 6,
   "id": "7edecc3d",
   "metadata": {},
   "outputs": [
    {
     "data": {
      "text/html": [
       "<div>\n",
       "<style scoped>\n",
       "    .dataframe tbody tr th:only-of-type {\n",
       "        vertical-align: middle;\n",
       "    }\n",
       "\n",
       "    .dataframe tbody tr th {\n",
       "        vertical-align: top;\n",
       "    }\n",
       "\n",
       "    .dataframe thead th {\n",
       "        text-align: right;\n",
       "    }\n",
       "</style>\n",
       "<table border=\"1\" class=\"dataframe\">\n",
       "  <thead>\n",
       "    <tr style=\"text-align: right;\">\n",
       "      <th></th>\n",
       "      <th>Public filename</th>\n",
       "      <th>Interpreter</th>\n",
       "      <th>Song</th>\n",
       "      <th>Interpretation</th>\n",
       "    </tr>\n",
       "  </thead>\n",
       "  <tbody>\n",
       "    <tr>\n",
       "      <th>0</th>\n",
       "      <td>0000.wav</td>\n",
       "      <td>216</td>\n",
       "      <td>Potter</td>\n",
       "      <td>Hum</td>\n",
       "    </tr>\n",
       "    <tr>\n",
       "      <th>1</th>\n",
       "      <td>0001.wav</td>\n",
       "      <td>100</td>\n",
       "      <td>Potter</td>\n",
       "      <td>Hum</td>\n",
       "    </tr>\n",
       "    <tr>\n",
       "      <th>2</th>\n",
       "      <td>0002.wav</td>\n",
       "      <td>177</td>\n",
       "      <td>Potter</td>\n",
       "      <td>Hum</td>\n",
       "    </tr>\n",
       "    <tr>\n",
       "      <th>3</th>\n",
       "      <td>0003.wav</td>\n",
       "      <td>159</td>\n",
       "      <td>Potter</td>\n",
       "      <td>Hum</td>\n",
       "    </tr>\n",
       "    <tr>\n",
       "      <th>4</th>\n",
       "      <td>0004.wav</td>\n",
       "      <td>160</td>\n",
       "      <td>Potter</td>\n",
       "      <td>Whistle</td>\n",
       "    </tr>\n",
       "  </tbody>\n",
       "</table>\n",
       "</div>"
      ],
      "text/plain": [
       "  Public filename  Interpreter    Song Interpretation\n",
       "0        0000.wav          216  Potter            Hum\n",
       "1        0001.wav          100  Potter            Hum\n",
       "2        0002.wav          177  Potter            Hum\n",
       "3        0003.wav          159  Potter            Hum\n",
       "4        0004.wav          160  Potter        Whistle"
      ]
     },
     "execution_count": 6,
     "metadata": {},
     "output_type": "execute_result"
    }
   ],
   "source": [
    "import pandas as pd\n",
    "# Load the Excel file\n",
    "dataset= pd.read_csv('dataset.csv')\n",
    "dataset.head()"
   ]
  },
  {
   "cell_type": "code",
   "execution_count": null,
   "id": "c90a9697",
   "metadata": {},
   "outputs": [],
   "source": [
    "from tqdm import tqdm\n",
    "def get_data(audio_dataset_path):\n",
    "    extracted_features=[]\n",
    "    for index_num,row in tqdm(dataset.iterrows()):\n",
    "        file_name = os.path.join(audio_dataset_path,str(row[\"Public filename\"]))\n",
    "        final_class_labels=row[\"Song\"]\n",
    "        data=load_audio_and_extract_spectrogram(file_name)\n",
    "        if data is not None:\n",
    "            extracted_features.append([data,final_class_labels])\n",
    "    return extracted_features\n"
   ]
  },
  {
   "cell_type": "code",
   "execution_count": null,
   "id": "c984b680",
   "metadata": {},
   "outputs": [],
   "source": [
    "extracted_features_train=get_data('audio/')"
   ]
  },
  {
   "cell_type": "code",
   "execution_count": null,
   "id": "12aea515",
   "metadata": {},
   "outputs": [],
   "source": [
    "#augmentation if need\n",
    "audio_dataset_path='audio/'\n",
    "for index_num,row in tqdm(dataset.iterrows()):\n",
    "    file_name = os.path.join(audio_dataset_path,str(row[\"Public filename\"]))\n",
    "    final_class_labels=row[\"Song\"]\n",
    "    data=load_audio_augmented_and_extract_spectrogram(file_name)\n",
    "    if data is not None:\n",
    "        data=pad_matrix(data)\n",
    "        extracted_features_train.append([data,final_class_labels])"
   ]
  },
  {
   "cell_type": "code",
   "execution_count": null,
   "id": "2828e623",
   "metadata": {},
   "outputs": [],
   "source": [
    "extracted_features_df=pd.DataFrame(extracted_features_train,columns=['feature','class'])\n",
    "extracted_features_df.head()"
   ]
  },
  {
   "cell_type": "code",
   "execution_count": null,
   "id": "3350622d",
   "metadata": {},
   "outputs": [],
   "source": [
    "# Split the dataset into independent and dependent dataset\n",
    "y_train=np.array(extracted_features_df['class'].tolist())\n",
    "X_train=np.array(extracted_features_df['feature'].tolist())"
   ]
  },
  {
   "cell_type": "code",
   "execution_count": 8,
   "id": "22e85a64",
   "metadata": {},
   "outputs": [],
   "source": [
    "#y_train=np.load(\"y_train.npy\")\n",
    "#X_train=np.load(\"X_train.npy\")"
   ]
  },
  {
   "cell_type": "code",
   "execution_count": 10,
   "id": "c3b2b39b",
   "metadata": {
    "scrolled": true
   },
   "outputs": [
    {
     "data": {
      "text/plain": [
       "array(['Potter', 'Potter', 'Potter', ..., 'Frozen', 'Frozen', 'Frozen'],\n",
       "      dtype='<U8')"
      ]
     },
     "execution_count": 10,
     "metadata": {},
     "output_type": "execute_result"
    }
   ],
   "source": [
    "y_train"
   ]
  },
  {
   "cell_type": "code",
   "execution_count": 11,
   "id": "025d5919",
   "metadata": {},
   "outputs": [],
   "source": [
    "from tensorflow.keras.utils import to_categorical\n",
    "from sklearn.preprocessing import LabelEncoder\n",
    "labelencoder=LabelEncoder()\n",
    "y_train=to_categorical(labelencoder.fit_transform(y_train))"
   ]
  },
  {
   "cell_type": "code",
   "execution_count": 12,
   "id": "270f7ddb",
   "metadata": {},
   "outputs": [
    {
     "data": {
      "text/plain": [
       "array([[0., 0., 0., ..., 0., 0., 0.],\n",
       "       [0., 0., 0., ..., 0., 0., 0.],\n",
       "       [0., 0., 0., ..., 0., 0., 0.],\n",
       "       ...,\n",
       "       [1., 0., 0., ..., 0., 0., 0.],\n",
       "       [1., 0., 0., ..., 0., 0., 0.],\n",
       "       [1., 0., 0., ..., 0., 0., 0.]])"
      ]
     },
     "execution_count": 12,
     "metadata": {},
     "output_type": "execute_result"
    }
   ],
   "source": [
    "y_train"
   ]
  },
  {
   "cell_type": "code",
   "execution_count": null,
   "id": "73dd9af5",
   "metadata": {},
   "outputs": [],
   "source": [
    "extracted_features_test=get_data('test/')"
   ]
  },
  {
   "cell_type": "code",
   "execution_count": null,
   "id": "e673109d",
   "metadata": {},
   "outputs": [],
   "source": [
    "extracted_features_test_df=pd.DataFrame(extracted_features_test,columns=['feature','class'])\n",
    "extracted_features_test_df.head()"
   ]
  },
  {
   "cell_type": "code",
   "execution_count": null,
   "id": "2678b9f8",
   "metadata": {},
   "outputs": [],
   "source": [
    "y_test=np.array(extracted_features_test_df['class'].tolist())\n",
    "X_test=np.array(extracted_features_test_df['feature'].tolist())"
   ]
  },
  {
   "cell_type": "code",
   "execution_count": 13,
   "id": "0689cff3",
   "metadata": {},
   "outputs": [],
   "source": [
    "#y_test=np.load(\"y_test.npy\")"
   ]
  },
  {
   "cell_type": "code",
   "execution_count": 14,
   "id": "ffc9a5ab",
   "metadata": {},
   "outputs": [],
   "source": [
    "#X_test=np.load(\"x_test.npy\")"
   ]
  },
  {
   "cell_type": "code",
   "execution_count": 15,
   "id": "127991f5",
   "metadata": {},
   "outputs": [
    {
     "data": {
      "text/plain": [
       "array([[0., 0., 0., ..., 0., 0., 0.],\n",
       "       [0., 0., 0., ..., 0., 0., 0.],\n",
       "       [0., 0., 0., ..., 0., 0., 0.],\n",
       "       ...,\n",
       "       [1., 0., 0., ..., 0., 0., 0.],\n",
       "       [1., 0., 0., ..., 0., 0., 0.],\n",
       "       [1., 0., 0., ..., 0., 0., 0.]])"
      ]
     },
     "execution_count": 15,
     "metadata": {},
     "output_type": "execute_result"
    }
   ],
   "source": [
    "y_test"
   ]
  },
  {
   "cell_type": "code",
   "execution_count": null,
   "id": "bc3dcdf3",
   "metadata": {},
   "outputs": [],
   "source": [
    "from tensorflow.keras.utils import to_categorical\n",
    "from sklearn.preprocessing import LabelEncoder\n",
    "labelencoder=LabelEncoder()\n",
    "y_test=to_categorical(labelencoder.fit_transform(y_test))"
   ]
  },
  {
   "cell_type": "code",
   "execution_count": 13,
   "id": "6e2ecd92",
   "metadata": {},
   "outputs": [
    {
     "name": "stdout",
     "output_type": "stream",
     "text": [
      "X_train shape: (11610, 216, 128)\n",
      "X_test shape: (798, 216, 128)\n",
      "y_train shape: (11610, 8)\n",
      "y_test shape: (798, 8)\n"
     ]
    }
   ],
   "source": [
    "# Print the shapes to verify\n",
    "print(\"X_train shape:\", X_train.shape)\n",
    "print(\"X_test shape:\", X_test.shape)\n",
    "print(\"y_train shape:\", y_train.shape)\n",
    "print(\"y_test shape:\", y_test.shape)"
   ]
  },
  {
   "cell_type": "code",
   "execution_count": 16,
   "id": "f83fd302",
   "metadata": {},
   "outputs": [
    {
     "data": {
      "text/plain": [
       "(216, 128)"
      ]
     },
     "execution_count": 16,
     "metadata": {},
     "output_type": "execute_result"
    }
   ],
   "source": [
    "input_shape = X_train[0].shape  # Shape should be (timesteps, features)\n",
    "input_shape"
   ]
  },
  {
   "cell_type": "code",
   "execution_count": 30,
   "id": "c7635567",
   "metadata": {},
   "outputs": [],
   "source": [
    "model_1 = models.Sequential([\n",
    "    layers.Conv1D(32, 3, activation='relu', input_shape=input_shape),\n",
    "    layers.BatchNormalization(),\n",
    "    layers.MaxPooling1D(2),\n",
    "    layers.Dropout(0.3),\n",
    "    layers.Conv1D(64, 3, activation='relu'),\n",
    "    layers.BatchNormalization(),\n",
    "    layers.MaxPooling1D(2),\n",
    "    layers.Dropout(0.3),\n",
    "    layers.Conv1D(128, 3, activation='relu'),\n",
    "    layers.BatchNormalization(),\n",
    "    layers.MaxPooling1D(2),\n",
    "    layers.Dropout(0.3),    \n",
    "    layers.Reshape((-1, 128)),  # Reshape the output of the Conv1D layers for LSTM input\n",
    "    layers.Bidirectional(layers.LSTM(64, return_sequences=True)),  # Bidirectional LSTM layer\n",
    "    layers.Bidirectional(layers.LSTM(32)),  # Another Bidirectional LSTM layer\n",
    "    layers.Dense(128, activation='relu'),\n",
    "    layers.Dense(8, activation='softmax')  # num_classes is the number of unique song names\n",
    "])"
   ]
  },
  {
   "cell_type": "code",
   "execution_count": 31,
   "id": "cc935ed7",
   "metadata": {},
   "outputs": [
    {
     "data": {
      "text/html": [
       "<pre style=\"white-space:pre;overflow-x:auto;line-height:normal;font-family:Menlo,'DejaVu Sans Mono',consolas,'Courier New',monospace\"><span style=\"font-weight: bold\">Model: \"sequential_7\"</span>\n",
       "</pre>\n"
      ],
      "text/plain": [
       "\u001b[1mModel: \"sequential_7\"\u001b[0m\n"
      ]
     },
     "metadata": {},
     "output_type": "display_data"
    },
    {
     "data": {
      "text/html": [
       "<pre style=\"white-space:pre;overflow-x:auto;line-height:normal;font-family:Menlo,'DejaVu Sans Mono',consolas,'Courier New',monospace\">┏━━━━━━━━━━━━━━━━━━━━━━━━━━━━━━━━━━━━━━┳━━━━━━━━━━━━━━━━━━━━━━━━━━━━━┳━━━━━━━━━━━━━━━━━┓\n",
       "┃<span style=\"font-weight: bold\"> Layer (type)                         </span>┃<span style=\"font-weight: bold\"> Output Shape                </span>┃<span style=\"font-weight: bold\">         Param # </span>┃\n",
       "┡━━━━━━━━━━━━━━━━━━━━━━━━━━━━━━━━━━━━━━╇━━━━━━━━━━━━━━━━━━━━━━━━━━━━━╇━━━━━━━━━━━━━━━━━┩\n",
       "│ conv1d_21 (<span style=\"color: #0087ff; text-decoration-color: #0087ff\">Conv1D</span>)                   │ (<span style=\"color: #00d7ff; text-decoration-color: #00d7ff\">None</span>, <span style=\"color: #00af00; text-decoration-color: #00af00\">214</span>, <span style=\"color: #00af00; text-decoration-color: #00af00\">32</span>)             │          <span style=\"color: #00af00; text-decoration-color: #00af00\">12,320</span> │\n",
       "├──────────────────────────────────────┼─────────────────────────────┼─────────────────┤\n",
       "│ batch_normalization_21               │ (<span style=\"color: #00d7ff; text-decoration-color: #00d7ff\">None</span>, <span style=\"color: #00af00; text-decoration-color: #00af00\">214</span>, <span style=\"color: #00af00; text-decoration-color: #00af00\">32</span>)             │             <span style=\"color: #00af00; text-decoration-color: #00af00\">128</span> │\n",
       "│ (<span style=\"color: #0087ff; text-decoration-color: #0087ff\">BatchNormalization</span>)                 │                             │                 │\n",
       "├──────────────────────────────────────┼─────────────────────────────┼─────────────────┤\n",
       "│ max_pooling1d_21 (<span style=\"color: #0087ff; text-decoration-color: #0087ff\">MaxPooling1D</span>)      │ (<span style=\"color: #00d7ff; text-decoration-color: #00d7ff\">None</span>, <span style=\"color: #00af00; text-decoration-color: #00af00\">107</span>, <span style=\"color: #00af00; text-decoration-color: #00af00\">32</span>)             │               <span style=\"color: #00af00; text-decoration-color: #00af00\">0</span> │\n",
       "├──────────────────────────────────────┼─────────────────────────────┼─────────────────┤\n",
       "│ dropout_25 (<span style=\"color: #0087ff; text-decoration-color: #0087ff\">Dropout</span>)                 │ (<span style=\"color: #00d7ff; text-decoration-color: #00d7ff\">None</span>, <span style=\"color: #00af00; text-decoration-color: #00af00\">107</span>, <span style=\"color: #00af00; text-decoration-color: #00af00\">32</span>)             │               <span style=\"color: #00af00; text-decoration-color: #00af00\">0</span> │\n",
       "├──────────────────────────────────────┼─────────────────────────────┼─────────────────┤\n",
       "│ conv1d_22 (<span style=\"color: #0087ff; text-decoration-color: #0087ff\">Conv1D</span>)                   │ (<span style=\"color: #00d7ff; text-decoration-color: #00d7ff\">None</span>, <span style=\"color: #00af00; text-decoration-color: #00af00\">105</span>, <span style=\"color: #00af00; text-decoration-color: #00af00\">64</span>)             │           <span style=\"color: #00af00; text-decoration-color: #00af00\">6,208</span> │\n",
       "├──────────────────────────────────────┼─────────────────────────────┼─────────────────┤\n",
       "│ batch_normalization_22               │ (<span style=\"color: #00d7ff; text-decoration-color: #00d7ff\">None</span>, <span style=\"color: #00af00; text-decoration-color: #00af00\">105</span>, <span style=\"color: #00af00; text-decoration-color: #00af00\">64</span>)             │             <span style=\"color: #00af00; text-decoration-color: #00af00\">256</span> │\n",
       "│ (<span style=\"color: #0087ff; text-decoration-color: #0087ff\">BatchNormalization</span>)                 │                             │                 │\n",
       "├──────────────────────────────────────┼─────────────────────────────┼─────────────────┤\n",
       "│ max_pooling1d_22 (<span style=\"color: #0087ff; text-decoration-color: #0087ff\">MaxPooling1D</span>)      │ (<span style=\"color: #00d7ff; text-decoration-color: #00d7ff\">None</span>, <span style=\"color: #00af00; text-decoration-color: #00af00\">52</span>, <span style=\"color: #00af00; text-decoration-color: #00af00\">64</span>)              │               <span style=\"color: #00af00; text-decoration-color: #00af00\">0</span> │\n",
       "├──────────────────────────────────────┼─────────────────────────────┼─────────────────┤\n",
       "│ dropout_26 (<span style=\"color: #0087ff; text-decoration-color: #0087ff\">Dropout</span>)                 │ (<span style=\"color: #00d7ff; text-decoration-color: #00d7ff\">None</span>, <span style=\"color: #00af00; text-decoration-color: #00af00\">52</span>, <span style=\"color: #00af00; text-decoration-color: #00af00\">64</span>)              │               <span style=\"color: #00af00; text-decoration-color: #00af00\">0</span> │\n",
       "├──────────────────────────────────────┼─────────────────────────────┼─────────────────┤\n",
       "│ conv1d_23 (<span style=\"color: #0087ff; text-decoration-color: #0087ff\">Conv1D</span>)                   │ (<span style=\"color: #00d7ff; text-decoration-color: #00d7ff\">None</span>, <span style=\"color: #00af00; text-decoration-color: #00af00\">50</span>, <span style=\"color: #00af00; text-decoration-color: #00af00\">128</span>)             │          <span style=\"color: #00af00; text-decoration-color: #00af00\">24,704</span> │\n",
       "├──────────────────────────────────────┼─────────────────────────────┼─────────────────┤\n",
       "│ batch_normalization_23               │ (<span style=\"color: #00d7ff; text-decoration-color: #00d7ff\">None</span>, <span style=\"color: #00af00; text-decoration-color: #00af00\">50</span>, <span style=\"color: #00af00; text-decoration-color: #00af00\">128</span>)             │             <span style=\"color: #00af00; text-decoration-color: #00af00\">512</span> │\n",
       "│ (<span style=\"color: #0087ff; text-decoration-color: #0087ff\">BatchNormalization</span>)                 │                             │                 │\n",
       "├──────────────────────────────────────┼─────────────────────────────┼─────────────────┤\n",
       "│ max_pooling1d_23 (<span style=\"color: #0087ff; text-decoration-color: #0087ff\">MaxPooling1D</span>)      │ (<span style=\"color: #00d7ff; text-decoration-color: #00d7ff\">None</span>, <span style=\"color: #00af00; text-decoration-color: #00af00\">25</span>, <span style=\"color: #00af00; text-decoration-color: #00af00\">128</span>)             │               <span style=\"color: #00af00; text-decoration-color: #00af00\">0</span> │\n",
       "├──────────────────────────────────────┼─────────────────────────────┼─────────────────┤\n",
       "│ dropout_27 (<span style=\"color: #0087ff; text-decoration-color: #0087ff\">Dropout</span>)                 │ (<span style=\"color: #00d7ff; text-decoration-color: #00d7ff\">None</span>, <span style=\"color: #00af00; text-decoration-color: #00af00\">25</span>, <span style=\"color: #00af00; text-decoration-color: #00af00\">128</span>)             │               <span style=\"color: #00af00; text-decoration-color: #00af00\">0</span> │\n",
       "├──────────────────────────────────────┼─────────────────────────────┼─────────────────┤\n",
       "│ reshape_7 (<span style=\"color: #0087ff; text-decoration-color: #0087ff\">Reshape</span>)                  │ (<span style=\"color: #00d7ff; text-decoration-color: #00d7ff\">None</span>, <span style=\"color: #00af00; text-decoration-color: #00af00\">25</span>, <span style=\"color: #00af00; text-decoration-color: #00af00\">128</span>)             │               <span style=\"color: #00af00; text-decoration-color: #00af00\">0</span> │\n",
       "├──────────────────────────────────────┼─────────────────────────────┼─────────────────┤\n",
       "│ bidirectional_14 (<span style=\"color: #0087ff; text-decoration-color: #0087ff\">Bidirectional</span>)     │ (<span style=\"color: #00d7ff; text-decoration-color: #00d7ff\">None</span>, <span style=\"color: #00af00; text-decoration-color: #00af00\">25</span>, <span style=\"color: #00af00; text-decoration-color: #00af00\">128</span>)             │          <span style=\"color: #00af00; text-decoration-color: #00af00\">98,816</span> │\n",
       "├──────────────────────────────────────┼─────────────────────────────┼─────────────────┤\n",
       "│ bidirectional_15 (<span style=\"color: #0087ff; text-decoration-color: #0087ff\">Bidirectional</span>)     │ (<span style=\"color: #00d7ff; text-decoration-color: #00d7ff\">None</span>, <span style=\"color: #00af00; text-decoration-color: #00af00\">64</span>)                  │          <span style=\"color: #00af00; text-decoration-color: #00af00\">41,216</span> │\n",
       "├──────────────────────────────────────┼─────────────────────────────┼─────────────────┤\n",
       "│ dense_18 (<span style=\"color: #0087ff; text-decoration-color: #0087ff\">Dense</span>)                     │ (<span style=\"color: #00d7ff; text-decoration-color: #00d7ff\">None</span>, <span style=\"color: #00af00; text-decoration-color: #00af00\">128</span>)                 │           <span style=\"color: #00af00; text-decoration-color: #00af00\">8,320</span> │\n",
       "├──────────────────────────────────────┼─────────────────────────────┼─────────────────┤\n",
       "│ dense_19 (<span style=\"color: #0087ff; text-decoration-color: #0087ff\">Dense</span>)                     │ (<span style=\"color: #00d7ff; text-decoration-color: #00d7ff\">None</span>, <span style=\"color: #00af00; text-decoration-color: #00af00\">8</span>)                   │           <span style=\"color: #00af00; text-decoration-color: #00af00\">1,032</span> │\n",
       "└──────────────────────────────────────┴─────────────────────────────┴─────────────────┘\n",
       "</pre>\n"
      ],
      "text/plain": [
       "┏━━━━━━━━━━━━━━━━━━━━━━━━━━━━━━━━━━━━━━┳━━━━━━━━━━━━━━━━━━━━━━━━━━━━━┳━━━━━━━━━━━━━━━━━┓\n",
       "┃\u001b[1m \u001b[0m\u001b[1mLayer (type)                        \u001b[0m\u001b[1m \u001b[0m┃\u001b[1m \u001b[0m\u001b[1mOutput Shape               \u001b[0m\u001b[1m \u001b[0m┃\u001b[1m \u001b[0m\u001b[1m        Param #\u001b[0m\u001b[1m \u001b[0m┃\n",
       "┡━━━━━━━━━━━━━━━━━━━━━━━━━━━━━━━━━━━━━━╇━━━━━━━━━━━━━━━━━━━━━━━━━━━━━╇━━━━━━━━━━━━━━━━━┩\n",
       "│ conv1d_21 (\u001b[38;5;33mConv1D\u001b[0m)                   │ (\u001b[38;5;45mNone\u001b[0m, \u001b[38;5;34m214\u001b[0m, \u001b[38;5;34m32\u001b[0m)             │          \u001b[38;5;34m12,320\u001b[0m │\n",
       "├──────────────────────────────────────┼─────────────────────────────┼─────────────────┤\n",
       "│ batch_normalization_21               │ (\u001b[38;5;45mNone\u001b[0m, \u001b[38;5;34m214\u001b[0m, \u001b[38;5;34m32\u001b[0m)             │             \u001b[38;5;34m128\u001b[0m │\n",
       "│ (\u001b[38;5;33mBatchNormalization\u001b[0m)                 │                             │                 │\n",
       "├──────────────────────────────────────┼─────────────────────────────┼─────────────────┤\n",
       "│ max_pooling1d_21 (\u001b[38;5;33mMaxPooling1D\u001b[0m)      │ (\u001b[38;5;45mNone\u001b[0m, \u001b[38;5;34m107\u001b[0m, \u001b[38;5;34m32\u001b[0m)             │               \u001b[38;5;34m0\u001b[0m │\n",
       "├──────────────────────────────────────┼─────────────────────────────┼─────────────────┤\n",
       "│ dropout_25 (\u001b[38;5;33mDropout\u001b[0m)                 │ (\u001b[38;5;45mNone\u001b[0m, \u001b[38;5;34m107\u001b[0m, \u001b[38;5;34m32\u001b[0m)             │               \u001b[38;5;34m0\u001b[0m │\n",
       "├──────────────────────────────────────┼─────────────────────────────┼─────────────────┤\n",
       "│ conv1d_22 (\u001b[38;5;33mConv1D\u001b[0m)                   │ (\u001b[38;5;45mNone\u001b[0m, \u001b[38;5;34m105\u001b[0m, \u001b[38;5;34m64\u001b[0m)             │           \u001b[38;5;34m6,208\u001b[0m │\n",
       "├──────────────────────────────────────┼─────────────────────────────┼─────────────────┤\n",
       "│ batch_normalization_22               │ (\u001b[38;5;45mNone\u001b[0m, \u001b[38;5;34m105\u001b[0m, \u001b[38;5;34m64\u001b[0m)             │             \u001b[38;5;34m256\u001b[0m │\n",
       "│ (\u001b[38;5;33mBatchNormalization\u001b[0m)                 │                             │                 │\n",
       "├──────────────────────────────────────┼─────────────────────────────┼─────────────────┤\n",
       "│ max_pooling1d_22 (\u001b[38;5;33mMaxPooling1D\u001b[0m)      │ (\u001b[38;5;45mNone\u001b[0m, \u001b[38;5;34m52\u001b[0m, \u001b[38;5;34m64\u001b[0m)              │               \u001b[38;5;34m0\u001b[0m │\n",
       "├──────────────────────────────────────┼─────────────────────────────┼─────────────────┤\n",
       "│ dropout_26 (\u001b[38;5;33mDropout\u001b[0m)                 │ (\u001b[38;5;45mNone\u001b[0m, \u001b[38;5;34m52\u001b[0m, \u001b[38;5;34m64\u001b[0m)              │               \u001b[38;5;34m0\u001b[0m │\n",
       "├──────────────────────────────────────┼─────────────────────────────┼─────────────────┤\n",
       "│ conv1d_23 (\u001b[38;5;33mConv1D\u001b[0m)                   │ (\u001b[38;5;45mNone\u001b[0m, \u001b[38;5;34m50\u001b[0m, \u001b[38;5;34m128\u001b[0m)             │          \u001b[38;5;34m24,704\u001b[0m │\n",
       "├──────────────────────────────────────┼─────────────────────────────┼─────────────────┤\n",
       "│ batch_normalization_23               │ (\u001b[38;5;45mNone\u001b[0m, \u001b[38;5;34m50\u001b[0m, \u001b[38;5;34m128\u001b[0m)             │             \u001b[38;5;34m512\u001b[0m │\n",
       "│ (\u001b[38;5;33mBatchNormalization\u001b[0m)                 │                             │                 │\n",
       "├──────────────────────────────────────┼─────────────────────────────┼─────────────────┤\n",
       "│ max_pooling1d_23 (\u001b[38;5;33mMaxPooling1D\u001b[0m)      │ (\u001b[38;5;45mNone\u001b[0m, \u001b[38;5;34m25\u001b[0m, \u001b[38;5;34m128\u001b[0m)             │               \u001b[38;5;34m0\u001b[0m │\n",
       "├──────────────────────────────────────┼─────────────────────────────┼─────────────────┤\n",
       "│ dropout_27 (\u001b[38;5;33mDropout\u001b[0m)                 │ (\u001b[38;5;45mNone\u001b[0m, \u001b[38;5;34m25\u001b[0m, \u001b[38;5;34m128\u001b[0m)             │               \u001b[38;5;34m0\u001b[0m │\n",
       "├──────────────────────────────────────┼─────────────────────────────┼─────────────────┤\n",
       "│ reshape_7 (\u001b[38;5;33mReshape\u001b[0m)                  │ (\u001b[38;5;45mNone\u001b[0m, \u001b[38;5;34m25\u001b[0m, \u001b[38;5;34m128\u001b[0m)             │               \u001b[38;5;34m0\u001b[0m │\n",
       "├──────────────────────────────────────┼─────────────────────────────┼─────────────────┤\n",
       "│ bidirectional_14 (\u001b[38;5;33mBidirectional\u001b[0m)     │ (\u001b[38;5;45mNone\u001b[0m, \u001b[38;5;34m25\u001b[0m, \u001b[38;5;34m128\u001b[0m)             │          \u001b[38;5;34m98,816\u001b[0m │\n",
       "├──────────────────────────────────────┼─────────────────────────────┼─────────────────┤\n",
       "│ bidirectional_15 (\u001b[38;5;33mBidirectional\u001b[0m)     │ (\u001b[38;5;45mNone\u001b[0m, \u001b[38;5;34m64\u001b[0m)                  │          \u001b[38;5;34m41,216\u001b[0m │\n",
       "├──────────────────────────────────────┼─────────────────────────────┼─────────────────┤\n",
       "│ dense_18 (\u001b[38;5;33mDense\u001b[0m)                     │ (\u001b[38;5;45mNone\u001b[0m, \u001b[38;5;34m128\u001b[0m)                 │           \u001b[38;5;34m8,320\u001b[0m │\n",
       "├──────────────────────────────────────┼─────────────────────────────┼─────────────────┤\n",
       "│ dense_19 (\u001b[38;5;33mDense\u001b[0m)                     │ (\u001b[38;5;45mNone\u001b[0m, \u001b[38;5;34m8\u001b[0m)                   │           \u001b[38;5;34m1,032\u001b[0m │\n",
       "└──────────────────────────────────────┴─────────────────────────────┴─────────────────┘\n"
      ]
     },
     "metadata": {},
     "output_type": "display_data"
    },
    {
     "data": {
      "text/html": [
       "<pre style=\"white-space:pre;overflow-x:auto;line-height:normal;font-family:Menlo,'DejaVu Sans Mono',consolas,'Courier New',monospace\"><span style=\"font-weight: bold\"> Total params: </span><span style=\"color: #00af00; text-decoration-color: #00af00\">193,512</span> (755.91 KB)\n",
       "</pre>\n"
      ],
      "text/plain": [
       "\u001b[1m Total params: \u001b[0m\u001b[38;5;34m193,512\u001b[0m (755.91 KB)\n"
      ]
     },
     "metadata": {},
     "output_type": "display_data"
    },
    {
     "data": {
      "text/html": [
       "<pre style=\"white-space:pre;overflow-x:auto;line-height:normal;font-family:Menlo,'DejaVu Sans Mono',consolas,'Courier New',monospace\"><span style=\"font-weight: bold\"> Trainable params: </span><span style=\"color: #00af00; text-decoration-color: #00af00\">193,064</span> (754.16 KB)\n",
       "</pre>\n"
      ],
      "text/plain": [
       "\u001b[1m Trainable params: \u001b[0m\u001b[38;5;34m193,064\u001b[0m (754.16 KB)\n"
      ]
     },
     "metadata": {},
     "output_type": "display_data"
    },
    {
     "data": {
      "text/html": [
       "<pre style=\"white-space:pre;overflow-x:auto;line-height:normal;font-family:Menlo,'DejaVu Sans Mono',consolas,'Courier New',monospace\"><span style=\"font-weight: bold\"> Non-trainable params: </span><span style=\"color: #00af00; text-decoration-color: #00af00\">448</span> (1.75 KB)\n",
       "</pre>\n"
      ],
      "text/plain": [
       "\u001b[1m Non-trainable params: \u001b[0m\u001b[38;5;34m448\u001b[0m (1.75 KB)\n"
      ]
     },
     "metadata": {},
     "output_type": "display_data"
    }
   ],
   "source": [
    "# Print a summary of the model architecture\n",
    "model_1.summary()"
   ]
  },
  {
   "cell_type": "code",
   "execution_count": 32,
   "id": "46a4ccea",
   "metadata": {},
   "outputs": [
    {
     "name": "stdout",
     "output_type": "stream",
     "text": [
      "Epoch 1/100\n",
      "\u001b[1m182/182\u001b[0m \u001b[32m━━━━━━━━━━━━━━━━━━━━\u001b[0m\u001b[37m\u001b[0m \u001b[1m26s\u001b[0m 80ms/step - accuracy: 0.2561 - loss: 1.9168 - val_accuracy: 0.5752 - val_loss: 1.2179 - learning_rate: 0.0010\n",
      "Epoch 2/100\n",
      "\u001b[1m182/182\u001b[0m \u001b[32m━━━━━━━━━━━━━━━━━━━━\u001b[0m\u001b[37m\u001b[0m \u001b[1m12s\u001b[0m 63ms/step - accuracy: 0.5722 - loss: 1.2426 - val_accuracy: 0.6779 - val_loss: 0.9244 - learning_rate: 0.0010\n",
      "Epoch 3/100\n",
      "\u001b[1m182/182\u001b[0m \u001b[32m━━━━━━━━━━━━━━━━━━━━\u001b[0m\u001b[37m\u001b[0m \u001b[1m12s\u001b[0m 63ms/step - accuracy: 0.6665 - loss: 0.9709 - val_accuracy: 0.7494 - val_loss: 0.7620 - learning_rate: 0.0010\n",
      "Epoch 4/100\n",
      "\u001b[1m182/182\u001b[0m \u001b[32m━━━━━━━━━━━━━━━━━━━━\u001b[0m\u001b[37m\u001b[0m \u001b[1m12s\u001b[0m 64ms/step - accuracy: 0.7226 - loss: 0.7975 - val_accuracy: 0.7820 - val_loss: 0.6278 - learning_rate: 0.0010\n",
      "Epoch 5/100\n",
      "\u001b[1m182/182\u001b[0m \u001b[32m━━━━━━━━━━━━━━━━━━━━\u001b[0m\u001b[37m\u001b[0m \u001b[1m12s\u001b[0m 64ms/step - accuracy: 0.7666 - loss: 0.6925 - val_accuracy: 0.7820 - val_loss: 0.6617 - learning_rate: 0.0010\n",
      "Epoch 6/100\n",
      "\u001b[1m182/182\u001b[0m \u001b[32m━━━━━━━━━━━━━━━━━━━━\u001b[0m\u001b[37m\u001b[0m \u001b[1m11s\u001b[0m 62ms/step - accuracy: 0.7795 - loss: 0.6465 - val_accuracy: 0.8133 - val_loss: 0.5666 - learning_rate: 0.0010\n",
      "Epoch 7/100\n",
      "\u001b[1m182/182\u001b[0m \u001b[32m━━━━━━━━━━━━━━━━━━━━\u001b[0m\u001b[37m\u001b[0m \u001b[1m12s\u001b[0m 63ms/step - accuracy: 0.8011 - loss: 0.5837 - val_accuracy: 0.8058 - val_loss: 0.5650 - learning_rate: 0.0010\n",
      "Epoch 8/100\n",
      "\u001b[1m182/182\u001b[0m \u001b[32m━━━━━━━━━━━━━━━━━━━━\u001b[0m\u001b[37m\u001b[0m \u001b[1m12s\u001b[0m 66ms/step - accuracy: 0.8210 - loss: 0.5201 - val_accuracy: 0.8083 - val_loss: 0.5690 - learning_rate: 0.0010\n",
      "Epoch 9/100\n",
      "\u001b[1m182/182\u001b[0m \u001b[32m━━━━━━━━━━━━━━━━━━━━\u001b[0m\u001b[37m\u001b[0m \u001b[1m12s\u001b[0m 65ms/step - accuracy: 0.8382 - loss: 0.4791 - val_accuracy: 0.8258 - val_loss: 0.5267 - learning_rate: 0.0010\n",
      "Epoch 10/100\n",
      "\u001b[1m182/182\u001b[0m \u001b[32m━━━━━━━━━━━━━━━━━━━━\u001b[0m\u001b[37m\u001b[0m \u001b[1m12s\u001b[0m 63ms/step - accuracy: 0.8484 - loss: 0.4503 - val_accuracy: 0.8471 - val_loss: 0.4815 - learning_rate: 0.0010\n",
      "Epoch 11/100\n",
      "\u001b[1m182/182\u001b[0m \u001b[32m━━━━━━━━━━━━━━━━━━━━\u001b[0m\u001b[37m\u001b[0m \u001b[1m12s\u001b[0m 63ms/step - accuracy: 0.8560 - loss: 0.4203 - val_accuracy: 0.8409 - val_loss: 0.4887 - learning_rate: 0.0010\n",
      "Epoch 12/100\n",
      "\u001b[1m182/182\u001b[0m \u001b[32m━━━━━━━━━━━━━━━━━━━━\u001b[0m\u001b[37m\u001b[0m \u001b[1m12s\u001b[0m 63ms/step - accuracy: 0.8650 - loss: 0.3950 - val_accuracy: 0.8559 - val_loss: 0.4769 - learning_rate: 0.0010\n",
      "Epoch 13/100\n",
      "\u001b[1m182/182\u001b[0m \u001b[32m━━━━━━━━━━━━━━━━━━━━\u001b[0m\u001b[37m\u001b[0m \u001b[1m12s\u001b[0m 62ms/step - accuracy: 0.8825 - loss: 0.3423 - val_accuracy: 0.8559 - val_loss: 0.4625 - learning_rate: 0.0010\n",
      "Epoch 14/100\n",
      "\u001b[1m182/182\u001b[0m \u001b[32m━━━━━━━━━━━━━━━━━━━━\u001b[0m\u001b[37m\u001b[0m \u001b[1m12s\u001b[0m 63ms/step - accuracy: 0.8819 - loss: 0.3396 - val_accuracy: 0.8622 - val_loss: 0.4498 - learning_rate: 0.0010\n",
      "Epoch 15/100\n",
      "\u001b[1m182/182\u001b[0m \u001b[32m━━━━━━━━━━━━━━━━━━━━\u001b[0m\u001b[37m\u001b[0m \u001b[1m11s\u001b[0m 62ms/step - accuracy: 0.8982 - loss: 0.3020 - val_accuracy: 0.8546 - val_loss: 0.4659 - learning_rate: 0.0010\n",
      "Epoch 16/100\n",
      "\u001b[1m182/182\u001b[0m \u001b[32m━━━━━━━━━━━━━━━━━━━━\u001b[0m\u001b[37m\u001b[0m \u001b[1m12s\u001b[0m 63ms/step - accuracy: 0.9093 - loss: 0.2689 - val_accuracy: 0.8609 - val_loss: 0.4508 - learning_rate: 0.0010\n",
      "Epoch 17/100\n",
      "\u001b[1m182/182\u001b[0m \u001b[32m━━━━━━━━━━━━━━━━━━━━\u001b[0m\u001b[37m\u001b[0m \u001b[1m11s\u001b[0m 60ms/step - accuracy: 0.9119 - loss: 0.2633 - val_accuracy: 0.8722 - val_loss: 0.4972 - learning_rate: 0.0010\n",
      "Epoch 18/100\n",
      "\u001b[1m182/182\u001b[0m \u001b[32m━━━━━━━━━━━━━━━━━━━━\u001b[0m\u001b[37m\u001b[0m \u001b[1m11s\u001b[0m 61ms/step - accuracy: 0.9070 - loss: 0.2622 - val_accuracy: 0.8559 - val_loss: 0.5292 - learning_rate: 0.0010\n",
      "Epoch 19/100\n",
      "\u001b[1m182/182\u001b[0m \u001b[32m━━━━━━━━━━━━━━━━━━━━\u001b[0m\u001b[37m\u001b[0m \u001b[1m13s\u001b[0m 70ms/step - accuracy: 0.9246 - loss: 0.2306 - val_accuracy: 0.8584 - val_loss: 0.4944 - learning_rate: 0.0010\n",
      "Epoch 20/100\n",
      "\u001b[1m182/182\u001b[0m \u001b[32m━━━━━━━━━━━━━━━━━━━━\u001b[0m\u001b[37m\u001b[0m \u001b[1m11s\u001b[0m 59ms/step - accuracy: 0.9372 - loss: 0.1901 - val_accuracy: 0.8697 - val_loss: 0.4726 - learning_rate: 2.0000e-04\n",
      "Epoch 21/100\n",
      "\u001b[1m182/182\u001b[0m \u001b[32m━━━━━━━━━━━━━━━━━━━━\u001b[0m\u001b[37m\u001b[0m \u001b[1m11s\u001b[0m 61ms/step - accuracy: 0.9473 - loss: 0.1591 - val_accuracy: 0.8709 - val_loss: 0.4635 - learning_rate: 2.0000e-04\n",
      "Epoch 22/100\n",
      "\u001b[1m182/182\u001b[0m \u001b[32m━━━━━━━━━━━━━━━━━━━━\u001b[0m\u001b[37m\u001b[0m \u001b[1m12s\u001b[0m 63ms/step - accuracy: 0.9517 - loss: 0.1488 - val_accuracy: 0.8747 - val_loss: 0.4646 - learning_rate: 2.0000e-04\n",
      "Epoch 23/100\n",
      "\u001b[1m182/182\u001b[0m \u001b[32m━━━━━━━━━━━━━━━━━━━━\u001b[0m\u001b[37m\u001b[0m \u001b[1m11s\u001b[0m 61ms/step - accuracy: 0.9537 - loss: 0.1399 - val_accuracy: 0.8772 - val_loss: 0.4706 - learning_rate: 2.0000e-04\n",
      "Epoch 24/100\n",
      "\u001b[1m182/182\u001b[0m \u001b[32m━━━━━━━━━━━━━━━━━━━━\u001b[0m\u001b[37m\u001b[0m \u001b[1m12s\u001b[0m 62ms/step - accuracy: 0.9512 - loss: 0.1481 - val_accuracy: 0.8810 - val_loss: 0.4542 - learning_rate: 2.0000e-04\n",
      "\u001b[1m25/25\u001b[0m \u001b[32m━━━━━━━━━━━━━━━━━━━━\u001b[0m\u001b[37m\u001b[0m \u001b[1m1s\u001b[0m 23ms/step - accuracy: 0.8662 - loss: 0.4114\n",
      "Test Accuracy: 0.8621553778648376\n"
     ]
    }
   ],
   "source": [
    "# Train the model\n",
    "# optimizer and learning rate\n",
    "optimizer = optimizers.Adam(learning_rate=0.001)\n",
    "\n",
    "# Compile the model\n",
    "model_1.compile(optimizer=optimizer, loss='categorical_crossentropy', metrics=['accuracy'])\n",
    "\n",
    "# Implement early stopping and reduce learning rate on plateau\n",
    "early_stopping = callbacks.EarlyStopping(monitor='val_loss', patience=10, restore_best_weights=True)\n",
    "reduce_lr = callbacks.ReduceLROnPlateau(monitor='val_loss', factor=0.2, patience=5, min_lr=1e-6)\n",
    "\n",
    "\n",
    "# Train the model\n",
    "history = model_1.fit(X_train, y_train, epochs=100, batch_size=64, validation_data=(X_test, y_test),\n",
    "                      callbacks=[early_stopping, reduce_lr])\n",
    "\n",
    "# Evaluate the model on the test set\n",
    "test_loss, test_accuracy = model_1.evaluate(X_test, y_test)\n",
    "print(\"Test Accuracy:\", test_accuracy)"
   ]
  },
  {
   "cell_type": "code",
   "execution_count": 32,
   "id": "8ae98005",
   "metadata": {},
   "outputs": [
    {
     "data": {
      "image/png": "[encoded data removed]",
      "text/plain": [
       "<Figure size 640x480 with 1 Axes>"
      ]
     },
     "metadata": {},
     "output_type": "display_data"
    },
    {
     "data": {
      "image/png": "[encoded data removed]",
      "text/plain": [
       "<Figure size 640x480 with 1 Axes>"
      ]
     },
     "metadata": {},
     "output_type": "display_data"
    }
   ],
   "source": [
    "import matplotlib.pyplot as plt\n",
    "\n",
    "plt.plot(history.history['accuracy'])\n",
    "plt.plot(history.history['val_accuracy'])\n",
    "plt.title('Model Accuracy')\n",
    "plt.ylabel('Accuracy')\n",
    "plt.xlabel('Epoch')\n",
    "plt.legend(['Train', 'Validation'], loc='upper left')\n",
    "plt.show()\n",
    "\n",
    "plt.plot(history.history['loss'])\n",
    "plt.plot(history.history['val_loss'])\n",
    "plt.title('Model Loss')\n",
    "plt.ylabel('Loss')\n",
    "plt.xlabel('Epoch')\n",
    "plt.legend(['Train', 'Validation'], loc='upper left')\n",
    "plt.show()"
   ]
  },
  {
   "cell_type": "code",
   "execution_count": 44,
   "id": "71d9e6d4",
   "metadata": {},
   "outputs": [
    {
     "name": "stderr",
     "output_type": "stream",
     "text": [
      "WARNING:absl:You are saving your model as an HDF5 file via `model.save()` or `keras.saving.save_model(model)`. This file format is considered legacy. We recommend using instead the native Keras format, e.g. `model.save('my_model.keras')` or `keras.saving.save_model(model, 'my_model.keras')`. \n"
     ]
    }
   ],
   "source": [
    "# Save the trained model to a file\n",
    "model_1.save('CNN_LSTM_model.h5')"
   ]
  },
  {
   "cell_type": "code",
   "execution_count": 14,
   "id": "e3775ef1",
   "metadata": {},
   "outputs": [],
   "source": [
    "test_spectogram=load_audio_and_extract_spectrogram('recorded_audio.wav')"
   ]
  },
  {
   "cell_type": "code",
   "execution_count": 15,
   "id": "9b46c413",
   "metadata": {},
   "outputs": [],
   "source": [
    "test_spectogram= np.expand_dims(test_spectogram, axis=0) "
   ]
  },
  {
   "cell_type": "code",
   "execution_count": 16,
   "id": "f5e5ea09",
   "metadata": {},
   "outputs": [
    {
     "data": {
      "text/plain": [
       "(1, 216, 128)"
      ]
     },
     "execution_count": 16,
     "metadata": {},
     "output_type": "execute_result"
    }
   ],
   "source": [
    "test_spectogram.shape"
   ]
  },
  {
   "cell_type": "code",
   "execution_count": null,
   "id": "10cea4da",
   "metadata": {},
   "outputs": [],
   "source": [
    "y_decoded = np.argmax(model_1.predict(X_test[0:100]), axis=1)  # Get the index of the highest value in each row\n",
    "y_original_predict = labelencoder.inverse_transform(y_decoded)"
   ]
  },
  {
   "cell_type": "code",
   "execution_count": 70,
   "id": "cc4922ea",
   "metadata": {},
   "outputs": [],
   "source": [
    "y_decoded_test = np.argmax(y_test[0:100], axis=1)  # Get the index of the highest value in each row\n",
    "y_original_test = labelencoder.inverse_transform(y_decoded_test)"
   ]
  },
  {
   "cell_type": "code",
   "execution_count": 71,
   "id": "d3990c19",
   "metadata": {},
   "outputs": [
    {
     "data": {
      "text/plain": [
       "array(['Potter', 'Potter', 'Potter', 'Potter', 'Potter', 'Potter',\n",
       "       'Potter', 'Potter', 'StarWars', 'Frozen', 'Hakuna', 'Potter',\n",
       "       'Potter', 'Potter', 'Potter', 'Potter', 'Potter', 'Potter',\n",
       "       'Potter', 'Potter', 'Potter', 'Potter', 'Potter', 'Potter',\n",
       "       'Potter', 'Potter', 'Potter', 'Potter', 'Potter', 'Potter',\n",
       "       'Potter', 'Potter', 'Potter', 'Potter', 'Potter', 'Potter',\n",
       "       'Potter', 'Panther', 'Potter', 'Potter', 'Potter', 'Potter',\n",
       "       'Potter', 'Potter', 'Potter', 'Potter', 'Potter', 'Potter',\n",
       "       'Potter', 'Potter', 'Potter', 'Potter', 'Potter', 'Potter',\n",
       "       'Potter', 'Potter', 'Potter', 'Potter', 'Potter', 'Potter',\n",
       "       'Potter', 'Potter', 'Potter', 'Potter', 'Potter', 'Potter',\n",
       "       'Potter', 'Potter', 'Potter', 'Potter', 'Potter', 'Potter',\n",
       "       'Potter', 'Potter', 'Potter', 'Potter', 'Potter', 'Potter',\n",
       "       'Potter', 'Potter', 'Potter', 'Potter', 'Potter', 'Potter',\n",
       "       'Potter', 'StarWars', 'Potter', 'Potter', 'Potter', 'Potter',\n",
       "       'StarWars', 'Potter', 'Potter', 'Potter', 'Potter', 'Rain',\n",
       "       'Potter', 'Potter', 'Potter', 'Panther'], dtype='<U8')"
      ]
     },
     "execution_count": 71,
     "metadata": {},
     "output_type": "execute_result"
    }
   ],
   "source": [
    "y_original_predict"
   ]
  },
  {
   "cell_type": "code",
   "execution_count": 72,
   "id": "4873139b",
   "metadata": {},
   "outputs": [
    {
     "data": {
      "text/plain": [
       "array(['Potter', 'Potter', 'Potter', 'Potter', 'Potter', 'Potter',\n",
       "       'Potter', 'Potter', 'Potter', 'Potter', 'Potter', 'Potter',\n",
       "       'Potter', 'Potter', 'Potter', 'Potter', 'Potter', 'Potter',\n",
       "       'Potter', 'Potter', 'Potter', 'Potter', 'Potter', 'Potter',\n",
       "       'Potter', 'Potter', 'Potter', 'Potter', 'Potter', 'Potter',\n",
       "       'Potter', 'Potter', 'Potter', 'Potter', 'Potter', 'Potter',\n",
       "       'Potter', 'Potter', 'Potter', 'Potter', 'Potter', 'Potter',\n",
       "       'Potter', 'Potter', 'Potter', 'Potter', 'Potter', 'Potter',\n",
       "       'Potter', 'Potter', 'Potter', 'Potter', 'Potter', 'Potter',\n",
       "       'Potter', 'Potter', 'Potter', 'Potter', 'Potter', 'Potter',\n",
       "       'Potter', 'Potter', 'Potter', 'Potter', 'Potter', 'Potter',\n",
       "       'Potter', 'Potter', 'Potter', 'Potter', 'Potter', 'Potter',\n",
       "       'Potter', 'Potter', 'Potter', 'Potter', 'Potter', 'Potter',\n",
       "       'Potter', 'Potter', 'Potter', 'Potter', 'Potter', 'Potter',\n",
       "       'Potter', 'Potter', 'Potter', 'Potter', 'Potter', 'Potter',\n",
       "       'Potter', 'Potter', 'Potter', 'Potter', 'Potter', 'Potter',\n",
       "       'Potter', 'Potter', 'Potter', 'Potter'], dtype='<U8')"
      ]
     },
     "execution_count": 72,
     "metadata": {},
     "output_type": "execute_result"
    }
   ],
   "source": [
    "y_original_test"
   ]
  },
  {
   "cell_type": "code",
   "execution_count": 27,
   "id": "414b0b66",
   "metadata": {},
   "outputs": [],
   "source": [
    "model_2 = models.Sequential([\n",
    "    layers.Conv1D(64, 5, activation='relu', input_shape=input_shape),\n",
    "    layers.BatchNormalization(),\n",
    "    layers.MaxPooling1D(2),\n",
    "    layers.Dropout(0.3),\n",
    "    layers.Conv1D(128, 5, activation='relu'),\n",
    "    layers.BatchNormalization(),\n",
    "    layers.MaxPooling1D(2),\n",
    "    layers.Dropout(0.3),\n",
    "    layers.Conv1D(256, 5, activation='relu'),\n",
    "    layers.BatchNormalization(),\n",
    "    layers.MaxPooling1D(2),\n",
    "    layers.Dropout(0.3),    layers.Reshape((-1, 128)),  # Reshape the output of the Conv1D layers for LSTM input\n",
    "    layers.Bidirectional(layers.LSTM(64, return_sequences=True)),  # Bidirectional LSTM layer\n",
    "    layers.Bidirectional(layers.LSTM(32)),  # Another Bidirectional LSTM layer\n",
    "    layers.Dense(128, activation='relu'),\n",
    "    layers.Dense(8, activation='softmax')  # num_classes is the number of unique song names\n",
    "])"
   ]
  },
  {
   "cell_type": "code",
   "execution_count": 28,
   "id": "fda4b799",
   "metadata": {},
   "outputs": [
    {
     "data": {
      "text/html": [
       "<pre style=\"white-space:pre;overflow-x:auto;line-height:normal;font-family:Menlo,'DejaVu Sans Mono',consolas,'Courier New',monospace\"><span style=\"font-weight: bold\">Model: \"sequential_6\"</span>\n",
       "</pre>\n"
      ],
      "text/plain": [
       "\u001b[1mModel: \"sequential_6\"\u001b[0m\n"
      ]
     },
     "metadata": {},
     "output_type": "display_data"
    },
    {
     "data": {
      "text/html": [
       "<pre style=\"white-space:pre;overflow-x:auto;line-height:normal;font-family:Menlo,'DejaVu Sans Mono',consolas,'Courier New',monospace\">┏━━━━━━━━━━━━━━━━━━━━━━━━━━━━━━━━━━━━━━┳━━━━━━━━━━━━━━━━━━━━━━━━━━━━━┳━━━━━━━━━━━━━━━━━┓\n",
       "┃<span style=\"font-weight: bold\"> Layer (type)                         </span>┃<span style=\"font-weight: bold\"> Output Shape                </span>┃<span style=\"font-weight: bold\">         Param # </span>┃\n",
       "┡━━━━━━━━━━━━━━━━━━━━━━━━━━━━━━━━━━━━━━╇━━━━━━━━━━━━━━━━━━━━━━━━━━━━━╇━━━━━━━━━━━━━━━━━┩\n",
       "│ conv1d_18 (<span style=\"color: #0087ff; text-decoration-color: #0087ff\">Conv1D</span>)                   │ (<span style=\"color: #00d7ff; text-decoration-color: #00d7ff\">None</span>, <span style=\"color: #00af00; text-decoration-color: #00af00\">212</span>, <span style=\"color: #00af00; text-decoration-color: #00af00\">64</span>)             │          <span style=\"color: #00af00; text-decoration-color: #00af00\">41,024</span> │\n",
       "├──────────────────────────────────────┼─────────────────────────────┼─────────────────┤\n",
       "│ batch_normalization_18               │ (<span style=\"color: #00d7ff; text-decoration-color: #00d7ff\">None</span>, <span style=\"color: #00af00; text-decoration-color: #00af00\">212</span>, <span style=\"color: #00af00; text-decoration-color: #00af00\">64</span>)             │             <span style=\"color: #00af00; text-decoration-color: #00af00\">256</span> │\n",
       "│ (<span style=\"color: #0087ff; text-decoration-color: #0087ff\">BatchNormalization</span>)                 │                             │                 │\n",
       "├──────────────────────────────────────┼─────────────────────────────┼─────────────────┤\n",
       "│ max_pooling1d_18 (<span style=\"color: #0087ff; text-decoration-color: #0087ff\">MaxPooling1D</span>)      │ (<span style=\"color: #00d7ff; text-decoration-color: #00d7ff\">None</span>, <span style=\"color: #00af00; text-decoration-color: #00af00\">106</span>, <span style=\"color: #00af00; text-decoration-color: #00af00\">64</span>)             │               <span style=\"color: #00af00; text-decoration-color: #00af00\">0</span> │\n",
       "├──────────────────────────────────────┼─────────────────────────────┼─────────────────┤\n",
       "│ dropout_22 (<span style=\"color: #0087ff; text-decoration-color: #0087ff\">Dropout</span>)                 │ (<span style=\"color: #00d7ff; text-decoration-color: #00d7ff\">None</span>, <span style=\"color: #00af00; text-decoration-color: #00af00\">106</span>, <span style=\"color: #00af00; text-decoration-color: #00af00\">64</span>)             │               <span style=\"color: #00af00; text-decoration-color: #00af00\">0</span> │\n",
       "├──────────────────────────────────────┼─────────────────────────────┼─────────────────┤\n",
       "│ conv1d_19 (<span style=\"color: #0087ff; text-decoration-color: #0087ff\">Conv1D</span>)                   │ (<span style=\"color: #00d7ff; text-decoration-color: #00d7ff\">None</span>, <span style=\"color: #00af00; text-decoration-color: #00af00\">102</span>, <span style=\"color: #00af00; text-decoration-color: #00af00\">128</span>)            │          <span style=\"color: #00af00; text-decoration-color: #00af00\">41,088</span> │\n",
       "├──────────────────────────────────────┼─────────────────────────────┼─────────────────┤\n",
       "│ batch_normalization_19               │ (<span style=\"color: #00d7ff; text-decoration-color: #00d7ff\">None</span>, <span style=\"color: #00af00; text-decoration-color: #00af00\">102</span>, <span style=\"color: #00af00; text-decoration-color: #00af00\">128</span>)            │             <span style=\"color: #00af00; text-decoration-color: #00af00\">512</span> │\n",
       "│ (<span style=\"color: #0087ff; text-decoration-color: #0087ff\">BatchNormalization</span>)                 │                             │                 │\n",
       "├──────────────────────────────────────┼─────────────────────────────┼─────────────────┤\n",
       "│ max_pooling1d_19 (<span style=\"color: #0087ff; text-decoration-color: #0087ff\">MaxPooling1D</span>)      │ (<span style=\"color: #00d7ff; text-decoration-color: #00d7ff\">None</span>, <span style=\"color: #00af00; text-decoration-color: #00af00\">51</span>, <span style=\"color: #00af00; text-decoration-color: #00af00\">128</span>)             │               <span style=\"color: #00af00; text-decoration-color: #00af00\">0</span> │\n",
       "├──────────────────────────────────────┼─────────────────────────────┼─────────────────┤\n",
       "│ dropout_23 (<span style=\"color: #0087ff; text-decoration-color: #0087ff\">Dropout</span>)                 │ (<span style=\"color: #00d7ff; text-decoration-color: #00d7ff\">None</span>, <span style=\"color: #00af00; text-decoration-color: #00af00\">51</span>, <span style=\"color: #00af00; text-decoration-color: #00af00\">128</span>)             │               <span style=\"color: #00af00; text-decoration-color: #00af00\">0</span> │\n",
       "├──────────────────────────────────────┼─────────────────────────────┼─────────────────┤\n",
       "│ conv1d_20 (<span style=\"color: #0087ff; text-decoration-color: #0087ff\">Conv1D</span>)                   │ (<span style=\"color: #00d7ff; text-decoration-color: #00d7ff\">None</span>, <span style=\"color: #00af00; text-decoration-color: #00af00\">47</span>, <span style=\"color: #00af00; text-decoration-color: #00af00\">256</span>)             │         <span style=\"color: #00af00; text-decoration-color: #00af00\">164,096</span> │\n",
       "├──────────────────────────────────────┼─────────────────────────────┼─────────────────┤\n",
       "│ batch_normalization_20               │ (<span style=\"color: #00d7ff; text-decoration-color: #00d7ff\">None</span>, <span style=\"color: #00af00; text-decoration-color: #00af00\">47</span>, <span style=\"color: #00af00; text-decoration-color: #00af00\">256</span>)             │           <span style=\"color: #00af00; text-decoration-color: #00af00\">1,024</span> │\n",
       "│ (<span style=\"color: #0087ff; text-decoration-color: #0087ff\">BatchNormalization</span>)                 │                             │                 │\n",
       "├──────────────────────────────────────┼─────────────────────────────┼─────────────────┤\n",
       "│ max_pooling1d_20 (<span style=\"color: #0087ff; text-decoration-color: #0087ff\">MaxPooling1D</span>)      │ (<span style=\"color: #00d7ff; text-decoration-color: #00d7ff\">None</span>, <span style=\"color: #00af00; text-decoration-color: #00af00\">23</span>, <span style=\"color: #00af00; text-decoration-color: #00af00\">256</span>)             │               <span style=\"color: #00af00; text-decoration-color: #00af00\">0</span> │\n",
       "├──────────────────────────────────────┼─────────────────────────────┼─────────────────┤\n",
       "│ dropout_24 (<span style=\"color: #0087ff; text-decoration-color: #0087ff\">Dropout</span>)                 │ (<span style=\"color: #00d7ff; text-decoration-color: #00d7ff\">None</span>, <span style=\"color: #00af00; text-decoration-color: #00af00\">23</span>, <span style=\"color: #00af00; text-decoration-color: #00af00\">256</span>)             │               <span style=\"color: #00af00; text-decoration-color: #00af00\">0</span> │\n",
       "├──────────────────────────────────────┼─────────────────────────────┼─────────────────┤\n",
       "│ reshape_6 (<span style=\"color: #0087ff; text-decoration-color: #0087ff\">Reshape</span>)                  │ (<span style=\"color: #00d7ff; text-decoration-color: #00d7ff\">None</span>, <span style=\"color: #00af00; text-decoration-color: #00af00\">46</span>, <span style=\"color: #00af00; text-decoration-color: #00af00\">128</span>)             │               <span style=\"color: #00af00; text-decoration-color: #00af00\">0</span> │\n",
       "├──────────────────────────────────────┼─────────────────────────────┼─────────────────┤\n",
       "│ bidirectional_12 (<span style=\"color: #0087ff; text-decoration-color: #0087ff\">Bidirectional</span>)     │ (<span style=\"color: #00d7ff; text-decoration-color: #00d7ff\">None</span>, <span style=\"color: #00af00; text-decoration-color: #00af00\">46</span>, <span style=\"color: #00af00; text-decoration-color: #00af00\">128</span>)             │          <span style=\"color: #00af00; text-decoration-color: #00af00\">98,816</span> │\n",
       "├──────────────────────────────────────┼─────────────────────────────┼─────────────────┤\n",
       "│ bidirectional_13 (<span style=\"color: #0087ff; text-decoration-color: #0087ff\">Bidirectional</span>)     │ (<span style=\"color: #00d7ff; text-decoration-color: #00d7ff\">None</span>, <span style=\"color: #00af00; text-decoration-color: #00af00\">64</span>)                  │          <span style=\"color: #00af00; text-decoration-color: #00af00\">41,216</span> │\n",
       "├──────────────────────────────────────┼─────────────────────────────┼─────────────────┤\n",
       "│ dense_16 (<span style=\"color: #0087ff; text-decoration-color: #0087ff\">Dense</span>)                     │ (<span style=\"color: #00d7ff; text-decoration-color: #00d7ff\">None</span>, <span style=\"color: #00af00; text-decoration-color: #00af00\">128</span>)                 │           <span style=\"color: #00af00; text-decoration-color: #00af00\">8,320</span> │\n",
       "├──────────────────────────────────────┼─────────────────────────────┼─────────────────┤\n",
       "│ dense_17 (<span style=\"color: #0087ff; text-decoration-color: #0087ff\">Dense</span>)                     │ (<span style=\"color: #00d7ff; text-decoration-color: #00d7ff\">None</span>, <span style=\"color: #00af00; text-decoration-color: #00af00\">8</span>)                   │           <span style=\"color: #00af00; text-decoration-color: #00af00\">1,032</span> │\n",
       "└──────────────────────────────────────┴─────────────────────────────┴─────────────────┘\n",
       "</pre>\n"
      ],
      "text/plain": [
       "┏━━━━━━━━━━━━━━━━━━━━━━━━━━━━━━━━━━━━━━┳━━━━━━━━━━━━━━━━━━━━━━━━━━━━━┳━━━━━━━━━━━━━━━━━┓\n",
       "┃\u001b[1m \u001b[0m\u001b[1mLayer (type)                        \u001b[0m\u001b[1m \u001b[0m┃\u001b[1m \u001b[0m\u001b[1mOutput Shape               \u001b[0m\u001b[1m \u001b[0m┃\u001b[1m \u001b[0m\u001b[1m        Param #\u001b[0m\u001b[1m \u001b[0m┃\n",
       "┡━━━━━━━━━━━━━━━━━━━━━━━━━━━━━━━━━━━━━━╇━━━━━━━━━━━━━━━━━━━━━━━━━━━━━╇━━━━━━━━━━━━━━━━━┩\n",
       "│ conv1d_18 (\u001b[38;5;33mConv1D\u001b[0m)                   │ (\u001b[38;5;45mNone\u001b[0m, \u001b[38;5;34m212\u001b[0m, \u001b[38;5;34m64\u001b[0m)             │          \u001b[38;5;34m41,024\u001b[0m │\n",
       "├──────────────────────────────────────┼─────────────────────────────┼─────────────────┤\n",
       "│ batch_normalization_18               │ (\u001b[38;5;45mNone\u001b[0m, \u001b[38;5;34m212\u001b[0m, \u001b[38;5;34m64\u001b[0m)             │             \u001b[38;5;34m256\u001b[0m │\n",
       "│ (\u001b[38;5;33mBatchNormalization\u001b[0m)                 │                             │                 │\n",
       "├──────────────────────────────────────┼─────────────────────────────┼─────────────────┤\n",
       "│ max_pooling1d_18 (\u001b[38;5;33mMaxPooling1D\u001b[0m)      │ (\u001b[38;5;45mNone\u001b[0m, \u001b[38;5;34m106\u001b[0m, \u001b[38;5;34m64\u001b[0m)             │               \u001b[38;5;34m0\u001b[0m │\n",
       "├──────────────────────────────────────┼─────────────────────────────┼─────────────────┤\n",
       "│ dropout_22 (\u001b[38;5;33mDropout\u001b[0m)                 │ (\u001b[38;5;45mNone\u001b[0m, \u001b[38;5;34m106\u001b[0m, \u001b[38;5;34m64\u001b[0m)             │               \u001b[38;5;34m0\u001b[0m │\n",
       "├──────────────────────────────────────┼─────────────────────────────┼─────────────────┤\n",
       "│ conv1d_19 (\u001b[38;5;33mConv1D\u001b[0m)                   │ (\u001b[38;5;45mNone\u001b[0m, \u001b[38;5;34m102\u001b[0m, \u001b[38;5;34m128\u001b[0m)            │          \u001b[38;5;34m41,088\u001b[0m │\n",
       "├──────────────────────────────────────┼─────────────────────────────┼─────────────────┤\n",
       "│ batch_normalization_19               │ (\u001b[38;5;45mNone\u001b[0m, \u001b[38;5;34m102\u001b[0m, \u001b[38;5;34m128\u001b[0m)            │             \u001b[38;5;34m512\u001b[0m │\n",
       "│ (\u001b[38;5;33mBatchNormalization\u001b[0m)                 │                             │                 │\n",
       "├──────────────────────────────────────┼─────────────────────────────┼─────────────────┤\n",
       "│ max_pooling1d_19 (\u001b[38;5;33mMaxPooling1D\u001b[0m)      │ (\u001b[38;5;45mNone\u001b[0m, \u001b[38;5;34m51\u001b[0m, \u001b[38;5;34m128\u001b[0m)             │               \u001b[38;5;34m0\u001b[0m │\n",
       "├──────────────────────────────────────┼─────────────────────────────┼─────────────────┤\n",
       "│ dropout_23 (\u001b[38;5;33mDropout\u001b[0m)                 │ (\u001b[38;5;45mNone\u001b[0m, \u001b[38;5;34m51\u001b[0m, \u001b[38;5;34m128\u001b[0m)             │               \u001b[38;5;34m0\u001b[0m │\n",
       "├──────────────────────────────────────┼─────────────────────────────┼─────────────────┤\n",
       "│ conv1d_20 (\u001b[38;5;33mConv1D\u001b[0m)                   │ (\u001b[38;5;45mNone\u001b[0m, \u001b[38;5;34m47\u001b[0m, \u001b[38;5;34m256\u001b[0m)             │         \u001b[38;5;34m164,096\u001b[0m │\n",
       "├──────────────────────────────────────┼─────────────────────────────┼─────────────────┤\n",
       "│ batch_normalization_20               │ (\u001b[38;5;45mNone\u001b[0m, \u001b[38;5;34m47\u001b[0m, \u001b[38;5;34m256\u001b[0m)             │           \u001b[38;5;34m1,024\u001b[0m │\n",
       "│ (\u001b[38;5;33mBatchNormalization\u001b[0m)                 │                             │                 │\n",
       "├──────────────────────────────────────┼─────────────────────────────┼─────────────────┤\n",
       "│ max_pooling1d_20 (\u001b[38;5;33mMaxPooling1D\u001b[0m)      │ (\u001b[38;5;45mNone\u001b[0m, \u001b[38;5;34m23\u001b[0m, \u001b[38;5;34m256\u001b[0m)             │               \u001b[38;5;34m0\u001b[0m │\n",
       "├──────────────────────────────────────┼─────────────────────────────┼─────────────────┤\n",
       "│ dropout_24 (\u001b[38;5;33mDropout\u001b[0m)                 │ (\u001b[38;5;45mNone\u001b[0m, \u001b[38;5;34m23\u001b[0m, \u001b[38;5;34m256\u001b[0m)             │               \u001b[38;5;34m0\u001b[0m │\n",
       "├──────────────────────────────────────┼─────────────────────────────┼─────────────────┤\n",
       "│ reshape_6 (\u001b[38;5;33mReshape\u001b[0m)                  │ (\u001b[38;5;45mNone\u001b[0m, \u001b[38;5;34m46\u001b[0m, \u001b[38;5;34m128\u001b[0m)             │               \u001b[38;5;34m0\u001b[0m │\n",
       "├──────────────────────────────────────┼─────────────────────────────┼─────────────────┤\n",
       "│ bidirectional_12 (\u001b[38;5;33mBidirectional\u001b[0m)     │ (\u001b[38;5;45mNone\u001b[0m, \u001b[38;5;34m46\u001b[0m, \u001b[38;5;34m128\u001b[0m)             │          \u001b[38;5;34m98,816\u001b[0m │\n",
       "├──────────────────────────────────────┼─────────────────────────────┼─────────────────┤\n",
       "│ bidirectional_13 (\u001b[38;5;33mBidirectional\u001b[0m)     │ (\u001b[38;5;45mNone\u001b[0m, \u001b[38;5;34m64\u001b[0m)                  │          \u001b[38;5;34m41,216\u001b[0m │\n",
       "├──────────────────────────────────────┼─────────────────────────────┼─────────────────┤\n",
       "│ dense_16 (\u001b[38;5;33mDense\u001b[0m)                     │ (\u001b[38;5;45mNone\u001b[0m, \u001b[38;5;34m128\u001b[0m)                 │           \u001b[38;5;34m8,320\u001b[0m │\n",
       "├──────────────────────────────────────┼─────────────────────────────┼─────────────────┤\n",
       "│ dense_17 (\u001b[38;5;33mDense\u001b[0m)                     │ (\u001b[38;5;45mNone\u001b[0m, \u001b[38;5;34m8\u001b[0m)                   │           \u001b[38;5;34m1,032\u001b[0m │\n",
       "└──────────────────────────────────────┴─────────────────────────────┴─────────────────┘\n"
      ]
     },
     "metadata": {},
     "output_type": "display_data"
    },
    {
     "data": {
      "text/html": [
       "<pre style=\"white-space:pre;overflow-x:auto;line-height:normal;font-family:Menlo,'DejaVu Sans Mono',consolas,'Courier New',monospace\"><span style=\"font-weight: bold\"> Total params: </span><span style=\"color: #00af00; text-decoration-color: #00af00\">397,384</span> (1.52 MB)\n",
       "</pre>\n"
      ],
      "text/plain": [
       "\u001b[1m Total params: \u001b[0m\u001b[38;5;34m397,384\u001b[0m (1.52 MB)\n"
      ]
     },
     "metadata": {},
     "output_type": "display_data"
    },
    {
     "data": {
      "text/html": [
       "<pre style=\"white-space:pre;overflow-x:auto;line-height:normal;font-family:Menlo,'DejaVu Sans Mono',consolas,'Courier New',monospace\"><span style=\"font-weight: bold\"> Trainable params: </span><span style=\"color: #00af00; text-decoration-color: #00af00\">396,488</span> (1.51 MB)\n",
       "</pre>\n"
      ],
      "text/plain": [
       "\u001b[1m Trainable params: \u001b[0m\u001b[38;5;34m396,488\u001b[0m (1.51 MB)\n"
      ]
     },
     "metadata": {},
     "output_type": "display_data"
    },
    {
     "data": {
      "text/html": [
       "<pre style=\"white-space:pre;overflow-x:auto;line-height:normal;font-family:Menlo,'DejaVu Sans Mono',consolas,'Courier New',monospace\"><span style=\"font-weight: bold\"> Non-trainable params: </span><span style=\"color: #00af00; text-decoration-color: #00af00\">896</span> (3.50 KB)\n",
       "</pre>\n"
      ],
      "text/plain": [
       "\u001b[1m Non-trainable params: \u001b[0m\u001b[38;5;34m896\u001b[0m (3.50 KB)\n"
      ]
     },
     "metadata": {},
     "output_type": "display_data"
    }
   ],
   "source": [
    " #Compile the model\n",
    "model_2.compile(optimizer='adam',\n",
    "              loss='categorical_crossentropy',\n",
    "              metrics=['accuracy'])\n",
    "\n",
    "# Print a summary of the model architecture\n",
    "model_2.summary()"
   ]
  },
  {
   "cell_type": "code",
   "execution_count": 29,
   "id": "90875f76",
   "metadata": {},
   "outputs": [
    {
     "name": "stdout",
     "output_type": "stream",
     "text": [
      "Epoch 1/100\n",
      "\u001b[1m182/182\u001b[0m \u001b[32m━━━━━━━━━━━━━━━━━━━━\u001b[0m\u001b[37m\u001b[0m \u001b[1m52s\u001b[0m 173ms/step - accuracy: 0.2904 - loss: 1.8603 - val_accuracy: 0.5865 - val_loss: 1.1946 - learning_rate: 0.0010\n",
      "Epoch 2/100\n",
      "\u001b[1m182/182\u001b[0m \u001b[32m━━━━━━━━━━━━━━━━━━━━\u001b[0m\u001b[37m\u001b[0m \u001b[1m26s\u001b[0m 140ms/step - accuracy: 0.5704 - loss: 1.2112 - val_accuracy: 0.6729 - val_loss: 0.9339 - learning_rate: 0.0010\n",
      "Epoch 3/100\n",
      "\u001b[1m182/182\u001b[0m \u001b[32m━━━━━━━━━━━━━━━━━━━━\u001b[0m\u001b[37m\u001b[0m \u001b[1m25s\u001b[0m 138ms/step - accuracy: 0.6649 - loss: 0.9828 - val_accuracy: 0.7343 - val_loss: 0.8166 - learning_rate: 0.0010\n",
      "Epoch 4/100\n",
      "\u001b[1m182/182\u001b[0m \u001b[32m━━━━━━━━━━━━━━━━━━━━\u001b[0m\u001b[37m\u001b[0m \u001b[1m26s\u001b[0m 139ms/step - accuracy: 0.7187 - loss: 0.8230 - val_accuracy: 0.7744 - val_loss: 0.6949 - learning_rate: 0.0010\n",
      "Epoch 5/100\n",
      "\u001b[1m182/182\u001b[0m \u001b[32m━━━━━━━━━━━━━━━━━━━━\u001b[0m\u001b[37m\u001b[0m \u001b[1m25s\u001b[0m 138ms/step - accuracy: 0.7616 - loss: 0.7065 - val_accuracy: 0.8058 - val_loss: 0.6245 - learning_rate: 0.0010\n",
      "Epoch 6/100\n",
      "\u001b[1m182/182\u001b[0m \u001b[32m━━━━━━━━━━━━━━━━━━━━\u001b[0m\u001b[37m\u001b[0m \u001b[1m26s\u001b[0m 143ms/step - accuracy: 0.7840 - loss: 0.6273 - val_accuracy: 0.7832 - val_loss: 0.6539 - learning_rate: 0.0010\n",
      "Epoch 7/100\n",
      "\u001b[1m182/182\u001b[0m \u001b[32m━━━━━━━━━━━━━━━━━━━━\u001b[0m\u001b[37m\u001b[0m \u001b[1m25s\u001b[0m 136ms/step - accuracy: 0.8061 - loss: 0.5677 - val_accuracy: 0.8170 - val_loss: 0.5608 - learning_rate: 0.0010\n",
      "Epoch 8/100\n",
      "\u001b[1m182/182\u001b[0m \u001b[32m━━━━━━━━━━━━━━━━━━━━\u001b[0m\u001b[37m\u001b[0m \u001b[1m26s\u001b[0m 139ms/step - accuracy: 0.8342 - loss: 0.5044 - val_accuracy: 0.8346 - val_loss: 0.5329 - learning_rate: 0.0010\n",
      "Epoch 9/100\n",
      "\u001b[1m182/182\u001b[0m \u001b[32m━━━━━━━━━━━━━━━━━━━━\u001b[0m\u001b[37m\u001b[0m \u001b[1m25s\u001b[0m 135ms/step - accuracy: 0.8516 - loss: 0.4437 - val_accuracy: 0.8296 - val_loss: 0.5261 - learning_rate: 0.0010\n",
      "Epoch 10/100\n",
      "\u001b[1m182/182\u001b[0m \u001b[32m━━━━━━━━━━━━━━━━━━━━\u001b[0m\u001b[37m\u001b[0m \u001b[1m25s\u001b[0m 137ms/step - accuracy: 0.8599 - loss: 0.4112 - val_accuracy: 0.8509 - val_loss: 0.4769 - learning_rate: 0.0010\n",
      "Epoch 11/100\n",
      "\u001b[1m182/182\u001b[0m \u001b[32m━━━━━━━━━━━━━━━━━━━━\u001b[0m\u001b[37m\u001b[0m \u001b[1m25s\u001b[0m 137ms/step - accuracy: 0.8759 - loss: 0.3679 - val_accuracy: 0.8596 - val_loss: 0.4277 - learning_rate: 0.0010\n",
      "Epoch 12/100\n",
      "\u001b[1m182/182\u001b[0m \u001b[32m━━━━━━━━━━━━━━━━━━━━\u001b[0m\u001b[37m\u001b[0m \u001b[1m25s\u001b[0m 136ms/step - accuracy: 0.8925 - loss: 0.3162 - val_accuracy: 0.8534 - val_loss: 0.4824 - learning_rate: 0.0010\n",
      "Epoch 13/100\n",
      "\u001b[1m182/182\u001b[0m \u001b[32m━━━━━━━━━━━━━━━━━━━━\u001b[0m\u001b[37m\u001b[0m \u001b[1m25s\u001b[0m 136ms/step - accuracy: 0.9029 - loss: 0.3012 - val_accuracy: 0.8571 - val_loss: 0.4588 - learning_rate: 0.0010\n",
      "Epoch 14/100\n",
      "\u001b[1m182/182\u001b[0m \u001b[32m━━━━━━━━━━━━━━━━━━━━\u001b[0m\u001b[37m\u001b[0m \u001b[1m25s\u001b[0m 137ms/step - accuracy: 0.9025 - loss: 0.2784 - val_accuracy: 0.8521 - val_loss: 0.4715 - learning_rate: 0.0010\n",
      "Epoch 15/100\n",
      "\u001b[1m182/182\u001b[0m \u001b[32m━━━━━━━━━━━━━━━━━━━━\u001b[0m\u001b[37m\u001b[0m \u001b[1m25s\u001b[0m 137ms/step - accuracy: 0.9070 - loss: 0.2749 - val_accuracy: 0.8634 - val_loss: 0.4625 - learning_rate: 0.0010\n",
      "Epoch 16/100\n",
      "\u001b[1m182/182\u001b[0m \u001b[32m━━━━━━━━━━━━━━━━━━━━\u001b[0m\u001b[37m\u001b[0m \u001b[1m25s\u001b[0m 137ms/step - accuracy: 0.9181 - loss: 0.2473 - val_accuracy: 0.8609 - val_loss: 0.4746 - learning_rate: 0.0010\n",
      "Epoch 17/100\n",
      "\u001b[1m182/182\u001b[0m \u001b[32m━━━━━━━━━━━━━━━━━━━━\u001b[0m\u001b[37m\u001b[0m \u001b[1m25s\u001b[0m 138ms/step - accuracy: 0.9365 - loss: 0.1877 - val_accuracy: 0.8822 - val_loss: 0.4049 - learning_rate: 2.0000e-04\n",
      "Epoch 18/100\n",
      "\u001b[1m182/182\u001b[0m \u001b[32m━━━━━━━━━━━━━━━━━━━━\u001b[0m\u001b[37m\u001b[0m \u001b[1m25s\u001b[0m 136ms/step - accuracy: 0.9574 - loss: 0.1365 - val_accuracy: 0.8835 - val_loss: 0.3931 - learning_rate: 2.0000e-04\n",
      "Epoch 19/100\n",
      "\u001b[1m182/182\u001b[0m \u001b[32m━━━━━━━━━━━━━━━━━━━━\u001b[0m\u001b[37m\u001b[0m \u001b[1m25s\u001b[0m 136ms/step - accuracy: 0.9578 - loss: 0.1302 - val_accuracy: 0.8810 - val_loss: 0.4213 - learning_rate: 2.0000e-04\n",
      "Epoch 20/100\n",
      "\u001b[1m182/182\u001b[0m \u001b[32m━━━━━━━━━━━━━━━━━━━━\u001b[0m\u001b[37m\u001b[0m \u001b[1m25s\u001b[0m 138ms/step - accuracy: 0.9626 - loss: 0.1188 - val_accuracy: 0.8835 - val_loss: 0.4215 - learning_rate: 2.0000e-04\n",
      "Epoch 21/100\n",
      "\u001b[1m182/182\u001b[0m \u001b[32m━━━━━━━━━━━━━━━━━━━━\u001b[0m\u001b[37m\u001b[0m \u001b[1m25s\u001b[0m 139ms/step - accuracy: 0.9611 - loss: 0.1150 - val_accuracy: 0.8860 - val_loss: 0.3941 - learning_rate: 2.0000e-04\n",
      "Epoch 22/100\n",
      "\u001b[1m182/182\u001b[0m \u001b[32m━━━━━━━━━━━━━━━━━━━━\u001b[0m\u001b[37m\u001b[0m \u001b[1m25s\u001b[0m 139ms/step - accuracy: 0.9677 - loss: 0.1036 - val_accuracy: 0.8910 - val_loss: 0.4074 - learning_rate: 2.0000e-04\n",
      "Epoch 23/100\n",
      "\u001b[1m182/182\u001b[0m \u001b[32m━━━━━━━━━━━━━━━━━━━━\u001b[0m\u001b[37m\u001b[0m \u001b[1m25s\u001b[0m 137ms/step - accuracy: 0.9676 - loss: 0.1074 - val_accuracy: 0.8835 - val_loss: 0.3967 - learning_rate: 2.0000e-04\n",
      "Epoch 24/100\n",
      "\u001b[1m182/182\u001b[0m \u001b[32m━━━━━━━━━━━━━━━━━━━━\u001b[0m\u001b[37m\u001b[0m \u001b[1m25s\u001b[0m 138ms/step - accuracy: 0.9683 - loss: 0.0983 - val_accuracy: 0.8835 - val_loss: 0.3962 - learning_rate: 4.0000e-05\n",
      "Epoch 25/100\n",
      "\u001b[1m182/182\u001b[0m \u001b[32m━━━━━━━━━━━━━━━━━━━━\u001b[0m\u001b[37m\u001b[0m \u001b[1m26s\u001b[0m 141ms/step - accuracy: 0.9716 - loss: 0.0872 - val_accuracy: 0.8885 - val_loss: 0.4020 - learning_rate: 4.0000e-05\n",
      "Epoch 26/100\n",
      "\u001b[1m182/182\u001b[0m \u001b[32m━━━━━━━━━━━━━━━━━━━━\u001b[0m\u001b[37m\u001b[0m \u001b[1m25s\u001b[0m 137ms/step - accuracy: 0.9717 - loss: 0.0859 - val_accuracy: 0.8860 - val_loss: 0.4070 - learning_rate: 4.0000e-05\n",
      "Epoch 27/100\n",
      "\u001b[1m182/182\u001b[0m \u001b[32m━━━━━━━━━━━━━━━━━━━━\u001b[0m\u001b[37m\u001b[0m \u001b[1m25s\u001b[0m 137ms/step - accuracy: 0.9737 - loss: 0.0854 - val_accuracy: 0.8885 - val_loss: 0.4037 - learning_rate: 4.0000e-05\n",
      "Epoch 28/100\n",
      "\u001b[1m182/182\u001b[0m \u001b[32m━━━━━━━━━━━━━━━━━━━━\u001b[0m\u001b[37m\u001b[0m \u001b[1m26s\u001b[0m 140ms/step - accuracy: 0.9764 - loss: 0.0823 - val_accuracy: 0.8885 - val_loss: 0.4137 - learning_rate: 4.0000e-05\n",
      "\u001b[1m25/25\u001b[0m \u001b[32m━━━━━━━━━━━━━━━━━━━━\u001b[0m\u001b[37m\u001b[0m \u001b[1m1s\u001b[0m 39ms/step - accuracy: 0.9037 - loss: 0.3064\n",
      "Test Accuracy: 0.88345867395401\n"
     ]
    }
   ],
   "source": [
    "# Train the model\n",
    "# optimizer and learning rate\n",
    "optimizer = optimizers.Adam(learning_rate=0.001)\n",
    "\n",
    "# Compile the model\n",
    "model_2.compile(optimizer=optimizer, loss='categorical_crossentropy', metrics=['accuracy'])\n",
    "\n",
    "# Implement early stopping and reduce learning rate on plateau\n",
    "early_stopping = callbacks.EarlyStopping(monitor='val_loss', patience=10, restore_best_weights=True)\n",
    "reduce_lr = callbacks.ReduceLROnPlateau(monitor='val_loss', factor=0.2, patience=5, min_lr=1e-6)\n",
    "\n",
    "\n",
    "# Train the model\n",
    "history = model_2.fit(X_train, y_train, epochs=100, batch_size=64, validation_data=(X_test, y_test),\n",
    "                      callbacks=[early_stopping, reduce_lr])\n",
    "\n",
    "# Evaluate the model on the test set\n",
    "test_loss, test_accuracy = model_2.evaluate(X_test, y_test)\n",
    "print(\"Test Accuracy:\", test_accuracy)"
   ]
  },
  {
   "cell_type": "code",
   "execution_count": 82,
   "id": "b6969833",
   "metadata": {},
   "outputs": [
    {
     "data": {
      "image/png": "[encoded data removed]",
      "text/plain": [
       "<Figure size 640x480 with 1 Axes>"
      ]
     },
     "metadata": {},
     "output_type": "display_data"
    },
    {
     "data": {
      "image/png": "[encoded data removed]",
      "text/plain": [
       "<Figure size 640x480 with 1 Axes>"
      ]
     },
     "metadata": {},
     "output_type": "display_data"
    }
   ],
   "source": [
    "import matplotlib.pyplot as plt\n",
    "\n",
    "plt.plot(history.history['accuracy'])\n",
    "plt.plot(history.history['val_accuracy'])\n",
    "plt.title('Model Accuracy')\n",
    "plt.ylabel('Accuracy')\n",
    "plt.xlabel('Epoch')\n",
    "plt.legend(['Train', 'Validation'], loc='upper left')\n",
    "plt.show()\n",
    "\n",
    "plt.plot(history.history['loss'])\n",
    "plt.plot(history.history['val_loss'])\n",
    "plt.title('Model Loss')\n",
    "plt.ylabel('Loss')\n",
    "plt.xlabel('Epoch')\n",
    "plt.legend(['Train', 'Validation'], loc='upper left')\n",
    "plt.show()"
   ]
  },
  {
   "cell_type": "code",
   "execution_count": 42,
   "id": "f9b3c249",
   "metadata": {},
   "outputs": [
    {
     "name": "stdout",
     "output_type": "stream",
     "text": [
      "\u001b[1m4/4\u001b[0m \u001b[32m━━━━━━━━━━━━━━━━━━━━\u001b[0m\u001b[37m\u001b[0m \u001b[1m0s\u001b[0m 53ms/step\n"
     ]
    }
   ],
   "source": [
    "y_decoded = np.argmax(model_1.predict(X_test[0:100]), axis=1)  # Get the index of the highest value in each row\n",
    "y_original_predict = labelencoder.inverse_transform(y_decoded)"
   ]
  },
  {
   "cell_type": "code",
   "execution_count": 43,
   "id": "59e69d07",
   "metadata": {},
   "outputs": [],
   "source": [
    "y_decoded_test = np.argmax(y_test[0:100], axis=1)  # Get the index of the highest value in each row\n",
    "y_original_test = labelencoder.inverse_transform(y_decoded_test)"
   ]
  },
  {
   "cell_type": "code",
   "execution_count": 45,
   "id": "84221f8c",
   "metadata": {},
   "outputs": [
    {
     "data": {
      "text/plain": [
       "array(['Potter', 'Potter', 'Potter', 'StarWars', 'Potter', 'Potter',\n",
       "       'Potter', 'Potter', 'Frozen', 'Potter', 'Frozen', 'Potter',\n",
       "       'Potter', 'Potter', 'Potter', 'Potter', 'Potter', 'Potter',\n",
       "       'Potter', 'Frozen', 'Potter', 'Potter', 'Potter', 'Potter',\n",
       "       'Potter', 'Potter', 'Potter', 'Potter', 'Potter', 'Potter',\n",
       "       'Potter', 'Potter', 'Potter', 'Potter', 'Rain', 'Potter', 'Potter',\n",
       "       'StarWars', 'Rain', 'Potter', 'Potter', 'Potter', 'Potter',\n",
       "       'Showman', 'Potter', 'Potter', 'Potter', 'Potter', 'Potter',\n",
       "       'Frozen', 'Potter', 'Potter', 'Potter', 'Potter', 'Potter',\n",
       "       'Potter', 'Potter', 'Potter', 'Potter', 'Potter', 'Potter',\n",
       "       'Potter', 'Potter', 'Potter', 'Potter', 'Potter', 'Potter',\n",
       "       'Potter', 'Potter', 'Potter', 'Potter', 'Potter', 'Potter',\n",
       "       'Potter', 'Hakuna', 'Potter', 'Potter', 'Potter', 'Potter', 'Rain',\n",
       "       'Potter', 'Potter', 'Potter', 'Potter', 'Potter', 'StarWars',\n",
       "       'Potter', 'Potter', 'Potter', 'Rain', 'Potter', 'Potter', 'Potter',\n",
       "       'Potter', 'Potter', 'Potter', 'Potter', 'Rain', 'Panther',\n",
       "       'Potter'], dtype='<U8')"
      ]
     },
     "execution_count": 45,
     "metadata": {},
     "output_type": "execute_result"
    }
   ],
   "source": [
    "y_original_predict"
   ]
  },
  {
   "cell_type": "code",
   "execution_count": 81,
   "id": "dfebfc62",
   "metadata": {},
   "outputs": [
    {
     "data": {
      "text/plain": [
       "array(['Potter', 'Potter', 'Potter', 'Potter', 'Potter', 'Potter',\n",
       "       'Potter', 'Potter', 'Potter', 'Potter', 'Potter', 'Potter',\n",
       "       'Potter', 'Potter', 'Potter', 'Potter', 'Potter', 'Potter',\n",
       "       'Potter', 'Potter', 'Potter', 'Potter', 'Potter', 'Potter',\n",
       "       'Potter', 'Potter', 'Potter', 'Potter', 'Potter', 'Potter',\n",
       "       'Potter', 'Potter', 'Potter', 'Potter', 'Potter', 'Potter',\n",
       "       'Potter', 'Potter', 'Potter', 'Potter', 'Potter', 'Potter',\n",
       "       'Potter', 'Potter', 'Potter', 'Potter', 'Potter', 'Potter',\n",
       "       'Potter', 'Potter', 'Potter', 'Potter', 'Potter', 'Potter',\n",
       "       'Potter', 'Potter', 'Potter', 'Potter', 'Potter', 'Potter',\n",
       "       'Potter', 'Potter', 'Potter', 'Potter', 'Potter', 'Potter',\n",
       "       'Potter', 'Potter', 'Potter', 'Potter', 'Potter', 'Potter',\n",
       "       'Potter', 'Potter', 'Potter', 'Potter', 'Potter', 'Potter',\n",
       "       'Potter', 'Potter', 'Potter', 'Potter', 'Potter', 'Potter',\n",
       "       'Potter', 'Potter', 'Potter', 'Potter', 'Potter', 'Potter',\n",
       "       'Potter', 'Potter', 'Potter', 'Potter', 'Potter', 'Potter',\n",
       "       'Potter', 'Potter', 'Potter', 'Potter'], dtype='<U8')"
      ]
     },
     "execution_count": 81,
     "metadata": {},
     "output_type": "execute_result"
    }
   ],
   "source": [
    "y_original_test"
   ]
  },
  {
   "cell_type": "code",
   "execution_count": 17,
   "id": "3f10bf03",
   "metadata": {},
   "outputs": [
    {
     "name": "stderr",
     "output_type": "stream",
     "text": [
      "C:\\Users\\barra\\anaconda3\\Lib\\site-packages\\keras\\src\\layers\\convolutional\\base_conv.py:107: UserWarning: Do not pass an `input_shape`/`input_dim` argument to a layer. When using Sequential models, prefer using an `Input(shape)` object as the first layer in the model instead.\n",
      "  super().__init__(activity_regularizer=activity_regularizer, **kwargs)\n"
     ]
    }
   ],
   "source": [
    "model_3 = models.Sequential([\n",
    "    layers.Conv1D(64, 5, activation='relu', input_shape=input_shape),\n",
    "    layers.BatchNormalization(),\n",
    "    layers.MaxPooling1D(2),\n",
    "    layers.Dropout(0.2),  \n",
    "    layers.Conv1D(128, 5, activation='leaky_relu'),  \n",
    "    layers.BatchNormalization(),\n",
    "    layers.MaxPooling1D(2),\n",
    "    layers.Dropout(0.2),\n",
    "    layers.Conv1D(256, 5, activation='leaky_relu'),\n",
    "    layers.BatchNormalization(),\n",
    "    layers.MaxPooling1D(2),\n",
    "    layers.Dropout(0.2),\n",
    "    layers.Reshape((-1, 256)),  # Adjust the reshape layer\n",
    "    layers.Bidirectional(layers.LSTM(128, return_sequences=True)),  \n",
    "    layers.Bidirectional(layers.LSTM(64)),\n",
    "    layers.Dense(256, activation='relu'),\n",
    "    layers.Dense(8, activation='softmax')  # num_classes is the number of unique song names\n",
    "])\n"
   ]
  },
  {
   "cell_type": "code",
   "execution_count": 18,
   "id": "5f4d03f6",
   "metadata": {},
   "outputs": [
    {
     "data": {
      "text/html": [
       "<pre style=\"white-space:pre;overflow-x:auto;line-height:normal;font-family:Menlo,'DejaVu Sans Mono',consolas,'Courier New',monospace\"><span style=\"font-weight: bold\">Model: \"sequential\"</span>\n",
       "</pre>\n"
      ],
      "text/plain": [
       "\u001b[1mModel: \"sequential\"\u001b[0m\n"
      ]
     },
     "metadata": {},
     "output_type": "display_data"
    },
    {
     "data": {
      "text/html": [
       "<pre style=\"white-space:pre;overflow-x:auto;line-height:normal;font-family:Menlo,'DejaVu Sans Mono',consolas,'Courier New',monospace\">┏━━━━━━━━━━━━━━━━━━━━━━━━━━━━━━━━━━━━━━┳━━━━━━━━━━━━━━━━━━━━━━━━━━━━━┳━━━━━━━━━━━━━━━━━┓\n",
       "┃<span style=\"font-weight: bold\"> Layer (type)                         </span>┃<span style=\"font-weight: bold\"> Output Shape                </span>┃<span style=\"font-weight: bold\">         Param # </span>┃\n",
       "┡━━━━━━━━━━━━━━━━━━━━━━━━━━━━━━━━━━━━━━╇━━━━━━━━━━━━━━━━━━━━━━━━━━━━━╇━━━━━━━━━━━━━━━━━┩\n",
       "│ conv1d (<span style=\"color: #0087ff; text-decoration-color: #0087ff\">Conv1D</span>)                      │ (<span style=\"color: #00d7ff; text-decoration-color: #00d7ff\">None</span>, <span style=\"color: #00af00; text-decoration-color: #00af00\">212</span>, <span style=\"color: #00af00; text-decoration-color: #00af00\">64</span>)             │          <span style=\"color: #00af00; text-decoration-color: #00af00\">41,024</span> │\n",
       "├──────────────────────────────────────┼─────────────────────────────┼─────────────────┤\n",
       "│ batch_normalization                  │ (<span style=\"color: #00d7ff; text-decoration-color: #00d7ff\">None</span>, <span style=\"color: #00af00; text-decoration-color: #00af00\">212</span>, <span style=\"color: #00af00; text-decoration-color: #00af00\">64</span>)             │             <span style=\"color: #00af00; text-decoration-color: #00af00\">256</span> │\n",
       "│ (<span style=\"color: #0087ff; text-decoration-color: #0087ff\">BatchNormalization</span>)                 │                             │                 │\n",
       "├──────────────────────────────────────┼─────────────────────────────┼─────────────────┤\n",
       "│ max_pooling1d (<span style=\"color: #0087ff; text-decoration-color: #0087ff\">MaxPooling1D</span>)         │ (<span style=\"color: #00d7ff; text-decoration-color: #00d7ff\">None</span>, <span style=\"color: #00af00; text-decoration-color: #00af00\">106</span>, <span style=\"color: #00af00; text-decoration-color: #00af00\">64</span>)             │               <span style=\"color: #00af00; text-decoration-color: #00af00\">0</span> │\n",
       "├──────────────────────────────────────┼─────────────────────────────┼─────────────────┤\n",
       "│ dropout (<span style=\"color: #0087ff; text-decoration-color: #0087ff\">Dropout</span>)                    │ (<span style=\"color: #00d7ff; text-decoration-color: #00d7ff\">None</span>, <span style=\"color: #00af00; text-decoration-color: #00af00\">106</span>, <span style=\"color: #00af00; text-decoration-color: #00af00\">64</span>)             │               <span style=\"color: #00af00; text-decoration-color: #00af00\">0</span> │\n",
       "├──────────────────────────────────────┼─────────────────────────────┼─────────────────┤\n",
       "│ conv1d_1 (<span style=\"color: #0087ff; text-decoration-color: #0087ff\">Conv1D</span>)                    │ (<span style=\"color: #00d7ff; text-decoration-color: #00d7ff\">None</span>, <span style=\"color: #00af00; text-decoration-color: #00af00\">102</span>, <span style=\"color: #00af00; text-decoration-color: #00af00\">128</span>)            │          <span style=\"color: #00af00; text-decoration-color: #00af00\">41,088</span> │\n",
       "├──────────────────────────────────────┼─────────────────────────────┼─────────────────┤\n",
       "│ batch_normalization_1                │ (<span style=\"color: #00d7ff; text-decoration-color: #00d7ff\">None</span>, <span style=\"color: #00af00; text-decoration-color: #00af00\">102</span>, <span style=\"color: #00af00; text-decoration-color: #00af00\">128</span>)            │             <span style=\"color: #00af00; text-decoration-color: #00af00\">512</span> │\n",
       "│ (<span style=\"color: #0087ff; text-decoration-color: #0087ff\">BatchNormalization</span>)                 │                             │                 │\n",
       "├──────────────────────────────────────┼─────────────────────────────┼─────────────────┤\n",
       "│ max_pooling1d_1 (<span style=\"color: #0087ff; text-decoration-color: #0087ff\">MaxPooling1D</span>)       │ (<span style=\"color: #00d7ff; text-decoration-color: #00d7ff\">None</span>, <span style=\"color: #00af00; text-decoration-color: #00af00\">51</span>, <span style=\"color: #00af00; text-decoration-color: #00af00\">128</span>)             │               <span style=\"color: #00af00; text-decoration-color: #00af00\">0</span> │\n",
       "├──────────────────────────────────────┼─────────────────────────────┼─────────────────┤\n",
       "│ dropout_1 (<span style=\"color: #0087ff; text-decoration-color: #0087ff\">Dropout</span>)                  │ (<span style=\"color: #00d7ff; text-decoration-color: #00d7ff\">None</span>, <span style=\"color: #00af00; text-decoration-color: #00af00\">51</span>, <span style=\"color: #00af00; text-decoration-color: #00af00\">128</span>)             │               <span style=\"color: #00af00; text-decoration-color: #00af00\">0</span> │\n",
       "├──────────────────────────────────────┼─────────────────────────────┼─────────────────┤\n",
       "│ conv1d_2 (<span style=\"color: #0087ff; text-decoration-color: #0087ff\">Conv1D</span>)                    │ (<span style=\"color: #00d7ff; text-decoration-color: #00d7ff\">None</span>, <span style=\"color: #00af00; text-decoration-color: #00af00\">47</span>, <span style=\"color: #00af00; text-decoration-color: #00af00\">256</span>)             │         <span style=\"color: #00af00; text-decoration-color: #00af00\">164,096</span> │\n",
       "├──────────────────────────────────────┼─────────────────────────────┼─────────────────┤\n",
       "│ batch_normalization_2                │ (<span style=\"color: #00d7ff; text-decoration-color: #00d7ff\">None</span>, <span style=\"color: #00af00; text-decoration-color: #00af00\">47</span>, <span style=\"color: #00af00; text-decoration-color: #00af00\">256</span>)             │           <span style=\"color: #00af00; text-decoration-color: #00af00\">1,024</span> │\n",
       "│ (<span style=\"color: #0087ff; text-decoration-color: #0087ff\">BatchNormalization</span>)                 │                             │                 │\n",
       "├──────────────────────────────────────┼─────────────────────────────┼─────────────────┤\n",
       "│ max_pooling1d_2 (<span style=\"color: #0087ff; text-decoration-color: #0087ff\">MaxPooling1D</span>)       │ (<span style=\"color: #00d7ff; text-decoration-color: #00d7ff\">None</span>, <span style=\"color: #00af00; text-decoration-color: #00af00\">23</span>, <span style=\"color: #00af00; text-decoration-color: #00af00\">256</span>)             │               <span style=\"color: #00af00; text-decoration-color: #00af00\">0</span> │\n",
       "├──────────────────────────────────────┼─────────────────────────────┼─────────────────┤\n",
       "│ dropout_2 (<span style=\"color: #0087ff; text-decoration-color: #0087ff\">Dropout</span>)                  │ (<span style=\"color: #00d7ff; text-decoration-color: #00d7ff\">None</span>, <span style=\"color: #00af00; text-decoration-color: #00af00\">23</span>, <span style=\"color: #00af00; text-decoration-color: #00af00\">256</span>)             │               <span style=\"color: #00af00; text-decoration-color: #00af00\">0</span> │\n",
       "├──────────────────────────────────────┼─────────────────────────────┼─────────────────┤\n",
       "│ reshape (<span style=\"color: #0087ff; text-decoration-color: #0087ff\">Reshape</span>)                    │ (<span style=\"color: #00d7ff; text-decoration-color: #00d7ff\">None</span>, <span style=\"color: #00af00; text-decoration-color: #00af00\">23</span>, <span style=\"color: #00af00; text-decoration-color: #00af00\">256</span>)             │               <span style=\"color: #00af00; text-decoration-color: #00af00\">0</span> │\n",
       "├──────────────────────────────────────┼─────────────────────────────┼─────────────────┤\n",
       "│ bidirectional (<span style=\"color: #0087ff; text-decoration-color: #0087ff\">Bidirectional</span>)        │ (<span style=\"color: #00d7ff; text-decoration-color: #00d7ff\">None</span>, <span style=\"color: #00af00; text-decoration-color: #00af00\">23</span>, <span style=\"color: #00af00; text-decoration-color: #00af00\">256</span>)             │         <span style=\"color: #00af00; text-decoration-color: #00af00\">394,240</span> │\n",
       "├──────────────────────────────────────┼─────────────────────────────┼─────────────────┤\n",
       "│ bidirectional_1 (<span style=\"color: #0087ff; text-decoration-color: #0087ff\">Bidirectional</span>)      │ (<span style=\"color: #00d7ff; text-decoration-color: #00d7ff\">None</span>, <span style=\"color: #00af00; text-decoration-color: #00af00\">128</span>)                 │         <span style=\"color: #00af00; text-decoration-color: #00af00\">164,352</span> │\n",
       "├──────────────────────────────────────┼─────────────────────────────┼─────────────────┤\n",
       "│ dense (<span style=\"color: #0087ff; text-decoration-color: #0087ff\">Dense</span>)                        │ (<span style=\"color: #00d7ff; text-decoration-color: #00d7ff\">None</span>, <span style=\"color: #00af00; text-decoration-color: #00af00\">256</span>)                 │          <span style=\"color: #00af00; text-decoration-color: #00af00\">33,024</span> │\n",
       "├──────────────────────────────────────┼─────────────────────────────┼─────────────────┤\n",
       "│ dense_1 (<span style=\"color: #0087ff; text-decoration-color: #0087ff\">Dense</span>)                      │ (<span style=\"color: #00d7ff; text-decoration-color: #00d7ff\">None</span>, <span style=\"color: #00af00; text-decoration-color: #00af00\">8</span>)                   │           <span style=\"color: #00af00; text-decoration-color: #00af00\">2,056</span> │\n",
       "└──────────────────────────────────────┴─────────────────────────────┴─────────────────┘\n",
       "</pre>\n"
      ],
      "text/plain": [
       "┏━━━━━━━━━━━━━━━━━━━━━━━━━━━━━━━━━━━━━━┳━━━━━━━━━━━━━━━━━━━━━━━━━━━━━┳━━━━━━━━━━━━━━━━━┓\n",
       "┃\u001b[1m \u001b[0m\u001b[1mLayer (type)                        \u001b[0m\u001b[1m \u001b[0m┃\u001b[1m \u001b[0m\u001b[1mOutput Shape               \u001b[0m\u001b[1m \u001b[0m┃\u001b[1m \u001b[0m\u001b[1m        Param #\u001b[0m\u001b[1m \u001b[0m┃\n",
       "┡━━━━━━━━━━━━━━━━━━━━━━━━━━━━━━━━━━━━━━╇━━━━━━━━━━━━━━━━━━━━━━━━━━━━━╇━━━━━━━━━━━━━━━━━┩\n",
       "│ conv1d (\u001b[38;5;33mConv1D\u001b[0m)                      │ (\u001b[38;5;45mNone\u001b[0m, \u001b[38;5;34m212\u001b[0m, \u001b[38;5;34m64\u001b[0m)             │          \u001b[38;5;34m41,024\u001b[0m │\n",
       "├──────────────────────────────────────┼─────────────────────────────┼─────────────────┤\n",
       "│ batch_normalization                  │ (\u001b[38;5;45mNone\u001b[0m, \u001b[38;5;34m212\u001b[0m, \u001b[38;5;34m64\u001b[0m)             │             \u001b[38;5;34m256\u001b[0m │\n",
       "│ (\u001b[38;5;33mBatchNormalization\u001b[0m)                 │                             │                 │\n",
       "├──────────────────────────────────────┼─────────────────────────────┼─────────────────┤\n",
       "│ max_pooling1d (\u001b[38;5;33mMaxPooling1D\u001b[0m)         │ (\u001b[38;5;45mNone\u001b[0m, \u001b[38;5;34m106\u001b[0m, \u001b[38;5;34m64\u001b[0m)             │               \u001b[38;5;34m0\u001b[0m │\n",
       "├──────────────────────────────────────┼─────────────────────────────┼─────────────────┤\n",
       "│ dropout (\u001b[38;5;33mDropout\u001b[0m)                    │ (\u001b[38;5;45mNone\u001b[0m, \u001b[38;5;34m106\u001b[0m, \u001b[38;5;34m64\u001b[0m)             │               \u001b[38;5;34m0\u001b[0m │\n",
       "├──────────────────────────────────────┼─────────────────────────────┼─────────────────┤\n",
       "│ conv1d_1 (\u001b[38;5;33mConv1D\u001b[0m)                    │ (\u001b[38;5;45mNone\u001b[0m, \u001b[38;5;34m102\u001b[0m, \u001b[38;5;34m128\u001b[0m)            │          \u001b[38;5;34m41,088\u001b[0m │\n",
       "├──────────────────────────────────────┼─────────────────────────────┼─────────────────┤\n",
       "│ batch_normalization_1                │ (\u001b[38;5;45mNone\u001b[0m, \u001b[38;5;34m102\u001b[0m, \u001b[38;5;34m128\u001b[0m)            │             \u001b[38;5;34m512\u001b[0m │\n",
       "│ (\u001b[38;5;33mBatchNormalization\u001b[0m)                 │                             │                 │\n",
       "├──────────────────────────────────────┼─────────────────────────────┼─────────────────┤\n",
       "│ max_pooling1d_1 (\u001b[38;5;33mMaxPooling1D\u001b[0m)       │ (\u001b[38;5;45mNone\u001b[0m, \u001b[38;5;34m51\u001b[0m, \u001b[38;5;34m128\u001b[0m)             │               \u001b[38;5;34m0\u001b[0m │\n",
       "├──────────────────────────────────────┼─────────────────────────────┼─────────────────┤\n",
       "│ dropout_1 (\u001b[38;5;33mDropout\u001b[0m)                  │ (\u001b[38;5;45mNone\u001b[0m, \u001b[38;5;34m51\u001b[0m, \u001b[38;5;34m128\u001b[0m)             │               \u001b[38;5;34m0\u001b[0m │\n",
       "├──────────────────────────────────────┼─────────────────────────────┼─────────────────┤\n",
       "│ conv1d_2 (\u001b[38;5;33mConv1D\u001b[0m)                    │ (\u001b[38;5;45mNone\u001b[0m, \u001b[38;5;34m47\u001b[0m, \u001b[38;5;34m256\u001b[0m)             │         \u001b[38;5;34m164,096\u001b[0m │\n",
       "├──────────────────────────────────────┼─────────────────────────────┼─────────────────┤\n",
       "│ batch_normalization_2                │ (\u001b[38;5;45mNone\u001b[0m, \u001b[38;5;34m47\u001b[0m, \u001b[38;5;34m256\u001b[0m)             │           \u001b[38;5;34m1,024\u001b[0m │\n",
       "│ (\u001b[38;5;33mBatchNormalization\u001b[0m)                 │                             │                 │\n",
       "├──────────────────────────────────────┼─────────────────────────────┼─────────────────┤\n",
       "│ max_pooling1d_2 (\u001b[38;5;33mMaxPooling1D\u001b[0m)       │ (\u001b[38;5;45mNone\u001b[0m, \u001b[38;5;34m23\u001b[0m, \u001b[38;5;34m256\u001b[0m)             │               \u001b[38;5;34m0\u001b[0m │\n",
       "├──────────────────────────────────────┼─────────────────────────────┼─────────────────┤\n",
       "│ dropout_2 (\u001b[38;5;33mDropout\u001b[0m)                  │ (\u001b[38;5;45mNone\u001b[0m, \u001b[38;5;34m23\u001b[0m, \u001b[38;5;34m256\u001b[0m)             │               \u001b[38;5;34m0\u001b[0m │\n",
       "├──────────────────────────────────────┼─────────────────────────────┼─────────────────┤\n",
       "│ reshape (\u001b[38;5;33mReshape\u001b[0m)                    │ (\u001b[38;5;45mNone\u001b[0m, \u001b[38;5;34m23\u001b[0m, \u001b[38;5;34m256\u001b[0m)             │               \u001b[38;5;34m0\u001b[0m │\n",
       "├──────────────────────────────────────┼─────────────────────────────┼─────────────────┤\n",
       "│ bidirectional (\u001b[38;5;33mBidirectional\u001b[0m)        │ (\u001b[38;5;45mNone\u001b[0m, \u001b[38;5;34m23\u001b[0m, \u001b[38;5;34m256\u001b[0m)             │         \u001b[38;5;34m394,240\u001b[0m │\n",
       "├──────────────────────────────────────┼─────────────────────────────┼─────────────────┤\n",
       "│ bidirectional_1 (\u001b[38;5;33mBidirectional\u001b[0m)      │ (\u001b[38;5;45mNone\u001b[0m, \u001b[38;5;34m128\u001b[0m)                 │         \u001b[38;5;34m164,352\u001b[0m │\n",
       "├──────────────────────────────────────┼─────────────────────────────┼─────────────────┤\n",
       "│ dense (\u001b[38;5;33mDense\u001b[0m)                        │ (\u001b[38;5;45mNone\u001b[0m, \u001b[38;5;34m256\u001b[0m)                 │          \u001b[38;5;34m33,024\u001b[0m │\n",
       "├──────────────────────────────────────┼─────────────────────────────┼─────────────────┤\n",
       "│ dense_1 (\u001b[38;5;33mDense\u001b[0m)                      │ (\u001b[38;5;45mNone\u001b[0m, \u001b[38;5;34m8\u001b[0m)                   │           \u001b[38;5;34m2,056\u001b[0m │\n",
       "└──────────────────────────────────────┴─────────────────────────────┴─────────────────┘\n"
      ]
     },
     "metadata": {},
     "output_type": "display_data"
    },
    {
     "data": {
      "text/html": [
       "<pre style=\"white-space:pre;overflow-x:auto;line-height:normal;font-family:Menlo,'DejaVu Sans Mono',consolas,'Courier New',monospace\"><span style=\"font-weight: bold\"> Total params: </span><span style=\"color: #00af00; text-decoration-color: #00af00\">841,672</span> (3.21 MB)\n",
       "</pre>\n"
      ],
      "text/plain": [
       "\u001b[1m Total params: \u001b[0m\u001b[38;5;34m841,672\u001b[0m (3.21 MB)\n"
      ]
     },
     "metadata": {},
     "output_type": "display_data"
    },
    {
     "data": {
      "text/html": [
       "<pre style=\"white-space:pre;overflow-x:auto;line-height:normal;font-family:Menlo,'DejaVu Sans Mono',consolas,'Courier New',monospace\"><span style=\"font-weight: bold\"> Trainable params: </span><span style=\"color: #00af00; text-decoration-color: #00af00\">840,776</span> (3.21 MB)\n",
       "</pre>\n"
      ],
      "text/plain": [
       "\u001b[1m Trainable params: \u001b[0m\u001b[38;5;34m840,776\u001b[0m (3.21 MB)\n"
      ]
     },
     "metadata": {},
     "output_type": "display_data"
    },
    {
     "data": {
      "text/html": [
       "<pre style=\"white-space:pre;overflow-x:auto;line-height:normal;font-family:Menlo,'DejaVu Sans Mono',consolas,'Courier New',monospace\"><span style=\"font-weight: bold\"> Non-trainable params: </span><span style=\"color: #00af00; text-decoration-color: #00af00\">896</span> (3.50 KB)\n",
       "</pre>\n"
      ],
      "text/plain": [
       "\u001b[1m Non-trainable params: \u001b[0m\u001b[38;5;34m896\u001b[0m (3.50 KB)\n"
      ]
     },
     "metadata": {},
     "output_type": "display_data"
    }
   ],
   "source": [
    "model_3.summary()"
   ]
  },
  {
   "cell_type": "code",
   "execution_count": 19,
   "id": "f7e4eb8d",
   "metadata": {},
   "outputs": [
    {
     "name": "stdout",
     "output_type": "stream",
     "text": [
      "Epoch 1/100\n",
      "\u001b[1m182/182\u001b[0m \u001b[32m━━━━━━━━━━━━━━━━━━━━\u001b[0m\u001b[37m\u001b[0m \u001b[1m53s\u001b[0m 197ms/step - accuracy: 0.3665 - loss: 1.6910 - val_accuracy: 0.6742 - val_loss: 0.9175 - learning_rate: 0.0010\n",
      "Epoch 2/100\n",
      "\u001b[1m182/182\u001b[0m \u001b[32m━━━━━━━━━━━━━━━━━━━━\u001b[0m\u001b[37m\u001b[0m \u001b[1m34s\u001b[0m 181ms/step - accuracy: 0.6754 - loss: 0.9375 - val_accuracy: 0.7820 - val_loss: 0.6743 - learning_rate: 0.0010\n",
      "Epoch 3/100\n",
      "\u001b[1m182/182\u001b[0m \u001b[32m━━━━━━━━━━━━━━━━━━━━\u001b[0m\u001b[37m\u001b[0m \u001b[1m34s\u001b[0m 182ms/step - accuracy: 0.7661 - loss: 0.6860 - val_accuracy: 0.7857 - val_loss: 0.6234 - learning_rate: 0.0010\n",
      "Epoch 4/100\n",
      "\u001b[1m182/182\u001b[0m \u001b[32m━━━━━━━━━━━━━━━━━━━━\u001b[0m\u001b[37m\u001b[0m \u001b[1m36s\u001b[0m 196ms/step - accuracy: 0.8107 - loss: 0.5577 - val_accuracy: 0.8296 - val_loss: 0.5308 - learning_rate: 0.0010\n",
      "Epoch 5/100\n",
      "\u001b[1m182/182\u001b[0m \u001b[32m━━━━━━━━━━━━━━━━━━━━\u001b[0m\u001b[37m\u001b[0m \u001b[1m32s\u001b[0m 173ms/step - accuracy: 0.8528 - loss: 0.4345 - val_accuracy: 0.8434 - val_loss: 0.5209 - learning_rate: 0.0010\n",
      "Epoch 6/100\n",
      "\u001b[1m182/182\u001b[0m \u001b[32m━━━━━━━━━━━━━━━━━━━━\u001b[0m\u001b[37m\u001b[0m \u001b[1m32s\u001b[0m 176ms/step - accuracy: 0.8752 - loss: 0.3649 - val_accuracy: 0.8697 - val_loss: 0.4137 - learning_rate: 0.0010\n",
      "Epoch 7/100\n",
      "\u001b[1m182/182\u001b[0m \u001b[32m━━━━━━━━━━━━━━━━━━━━\u001b[0m\u001b[37m\u001b[0m \u001b[1m33s\u001b[0m 178ms/step - accuracy: 0.8990 - loss: 0.3023 - val_accuracy: 0.8672 - val_loss: 0.4491 - learning_rate: 0.0010\n",
      "Epoch 8/100\n",
      "\u001b[1m182/182\u001b[0m \u001b[32m━━━━━━━━━━━━━━━━━━━━\u001b[0m\u001b[37m\u001b[0m \u001b[1m33s\u001b[0m 178ms/step - accuracy: 0.9127 - loss: 0.2582 - val_accuracy: 0.8634 - val_loss: 0.4578 - learning_rate: 0.0010\n",
      "Epoch 9/100\n",
      "\u001b[1m182/182\u001b[0m \u001b[32m━━━━━━━━━━━━━━━━━━━━\u001b[0m\u001b[37m\u001b[0m \u001b[1m33s\u001b[0m 177ms/step - accuracy: 0.9223 - loss: 0.2292 - val_accuracy: 0.8697 - val_loss: 0.4766 - learning_rate: 0.0010\n",
      "Epoch 10/100\n",
      "\u001b[1m182/182\u001b[0m \u001b[32m━━━━━━━━━━━━━━━━━━━━\u001b[0m\u001b[37m\u001b[0m \u001b[1m33s\u001b[0m 178ms/step - accuracy: 0.9397 - loss: 0.1839 - val_accuracy: 0.8697 - val_loss: 0.5065 - learning_rate: 0.0010\n",
      "Epoch 11/100\n",
      "\u001b[1m182/182\u001b[0m \u001b[32m━━━━━━━━━━━━━━━━━━━━\u001b[0m\u001b[37m\u001b[0m \u001b[1m32s\u001b[0m 177ms/step - accuracy: 0.9412 - loss: 0.1699 - val_accuracy: 0.8709 - val_loss: 0.5526 - learning_rate: 0.0010\n",
      "Epoch 12/100\n",
      "\u001b[1m182/182\u001b[0m \u001b[32m━━━━━━━━━━━━━━━━━━━━\u001b[0m\u001b[37m\u001b[0m \u001b[1m32s\u001b[0m 173ms/step - accuracy: 0.9688 - loss: 0.1042 - val_accuracy: 0.8935 - val_loss: 0.4552 - learning_rate: 2.0000e-04\n",
      "Epoch 13/100\n",
      "\u001b[1m182/182\u001b[0m \u001b[32m━━━━━━━━━━━━━━━━━━━━\u001b[0m\u001b[37m\u001b[0m \u001b[1m32s\u001b[0m 174ms/step - accuracy: 0.9810 - loss: 0.0647 - val_accuracy: 0.8885 - val_loss: 0.4772 - learning_rate: 2.0000e-04\n",
      "Epoch 14/100\n",
      "\u001b[1m182/182\u001b[0m \u001b[32m━━━━━━━━━━━━━━━━━━━━\u001b[0m\u001b[37m\u001b[0m \u001b[1m32s\u001b[0m 173ms/step - accuracy: 0.9839 - loss: 0.0614 - val_accuracy: 0.8922 - val_loss: 0.4803 - learning_rate: 2.0000e-04\n",
      "Epoch 15/100\n",
      "\u001b[1m182/182\u001b[0m \u001b[32m━━━━━━━━━━━━━━━━━━━━\u001b[0m\u001b[37m\u001b[0m \u001b[1m32s\u001b[0m 175ms/step - accuracy: 0.9848 - loss: 0.0503 - val_accuracy: 0.8960 - val_loss: 0.4820 - learning_rate: 2.0000e-04\n",
      "Epoch 16/100\n",
      "\u001b[1m182/182\u001b[0m \u001b[32m━━━━━━━━━━━━━━━━━━━━\u001b[0m\u001b[37m\u001b[0m \u001b[1m32s\u001b[0m 172ms/step - accuracy: 0.9849 - loss: 0.0506 - val_accuracy: 0.8985 - val_loss: 0.4721 - learning_rate: 2.0000e-04\n",
      "\u001b[1m25/25\u001b[0m \u001b[32m━━━━━━━━━━━━━━━━━━━━\u001b[0m\u001b[37m\u001b[0m \u001b[1m1s\u001b[0m 33ms/step - accuracy: 0.8806 - loss: 0.3566\n",
      "Test Accuracy: 0.8696742057800293\n"
     ]
    }
   ],
   "source": [
    "# Train the model\n",
    "# optimizer and learning rate\n",
    "optimizer = optimizers.Adam(learning_rate=0.001)\n",
    "\n",
    "# Compile the model\n",
    "model_3.compile(optimizer=optimizer, loss='categorical_crossentropy', metrics=['accuracy'])\n",
    "\n",
    "# Implement early stopping and reduce learning rate on plateau\n",
    "early_stopping = callbacks.EarlyStopping(monitor='val_loss', patience=10, restore_best_weights=True)\n",
    "reduce_lr = callbacks.ReduceLROnPlateau(monitor='val_loss', factor=0.2, patience=5, min_lr=1e-6)\n",
    "\n",
    "\n",
    "# Train the model\n",
    "history = model_3.fit(X_train, y_train, epochs=100, batch_size=64, validation_data=(X_test, y_test),\n",
    "                      callbacks=[early_stopping, reduce_lr])\n",
    "\n",
    "# Evaluate the model on the test set\n",
    "test_loss, test_accuracy = model_3.evaluate(X_test, y_test)\n",
    "print(\"Test Accuracy:\", test_accuracy)"
   ]
  },
  {
   "cell_type": "code",
   "execution_count": 20,
   "id": "d5b77dd6",
   "metadata": {},
   "outputs": [
    {
     "data": {
      "image/png": "[encoded data removed]",
      "text/plain": [
       "<Figure size 640x480 with 1 Axes>"
      ]
     },
     "metadata": {},
     "output_type": "display_data"
    },
    {
     "data": {
      "image/png": "[encoded data removed]",
      "text/plain": [
       "<Figure size 640x480 with 1 Axes>"
      ]
     },
     "metadata": {},
     "output_type": "display_data"
    }
   ],
   "source": [
    "plt.plot(history.history['accuracy'])\n",
    "plt.plot(history.history['val_accuracy'])\n",
    "plt.title('Model Accuracy')\n",
    "plt.ylabel('Accuracy')\n",
    "plt.xlabel('Epoch')\n",
    "plt.legend(['Train', 'Validation'], loc='upper left')\n",
    "plt.show()\n",
    "\n",
    "plt.plot(history.history['loss'])\n",
    "plt.plot(history.history['val_loss'])\n",
    "plt.title('Model Loss')\n",
    "plt.ylabel('Loss')\n",
    "plt.xlabel('Epoch')\n",
    "plt.legend(['Train', 'Validation'], loc='upper left')\n",
    "plt.show()"
   ]
  },
  {
   "cell_type": "code",
   "execution_count": 35,
   "id": "bf6f1667",
   "metadata": {},
   "outputs": [
    {
     "name": "stdout",
     "output_type": "stream",
     "text": [
      "\u001b[1m4/4\u001b[0m \u001b[32m━━━━━━━━━━━━━━━━━━━━\u001b[0m\u001b[37m\u001b[0m \u001b[1m3s\u001b[0m 443ms/step\n"
     ]
    }
   ],
   "source": [
    "y_decoded = np.argmax(model_3.predict(X_test[0:100]), axis=1)  # Get the index of the highest value in each row\n",
    "y_original_predict = labelencoder.inverse_transform(y_decoded)"
   ]
  },
  {
   "cell_type": "code",
   "execution_count": 36,
   "id": "b00b28e1",
   "metadata": {},
   "outputs": [],
   "source": [
    "y_decoded_test = np.argmax(y_test[0:100], axis=1)  # Get the index of the highest value in each row\n",
    "y_original_test = labelencoder.inverse_transform(y_decoded_test)"
   ]
  },
  {
   "cell_type": "code",
   "execution_count": 37,
   "id": "e2fbf43c",
   "metadata": {},
   "outputs": [
    {
     "data": {
      "text/plain": [
       "array(['Potter', 'Potter', 'Potter', 'Potter', 'Potter', 'Potter',\n",
       "       'Potter', 'StarWars', 'Potter', 'Potter', 'Potter', 'Potter',\n",
       "       'Potter', 'Potter', 'Potter', 'Potter', 'Potter', 'Potter',\n",
       "       'Potter', 'Potter', 'Potter', 'Potter', 'Hakuna', 'Potter',\n",
       "       'Potter', 'Potter', 'Potter', 'Potter', 'Potter', 'Potter',\n",
       "       'Potter', 'Potter', 'Potter', 'Potter', 'Potter', 'Potter',\n",
       "       'Potter', 'Hakuna', 'Potter', 'Potter', 'Potter', 'Potter',\n",
       "       'Potter', 'Potter', 'Potter', 'Potter', 'Panther', 'Potter',\n",
       "       'Potter', 'Potter', 'StarWars', 'Potter', 'Potter', 'Potter',\n",
       "       'Potter', 'Potter', 'Potter', 'Potter', 'Potter', 'Potter',\n",
       "       'Potter', 'Potter', 'Potter', 'Potter', 'Potter', 'Potter',\n",
       "       'Potter', 'Potter', 'Potter', 'Potter', 'Potter', 'Potter',\n",
       "       'Potter', 'Potter', 'Potter', 'Potter', 'Potter', 'Potter',\n",
       "       'Potter', 'Potter', 'Potter', 'Potter', 'Potter', 'Potter',\n",
       "       'Potter', 'StarWars', 'Potter', 'Potter', 'Potter', 'Potter',\n",
       "       'Potter', 'Potter', 'Potter', 'Potter', 'Potter', 'Frozen',\n",
       "       'Potter', 'Potter', 'Potter', 'Potter'], dtype='<U8')"
      ]
     },
     "execution_count": 37,
     "metadata": {},
     "output_type": "execute_result"
    }
   ],
   "source": [
    "y_original_predict"
   ]
  },
  {
   "cell_type": "code",
   "execution_count": 38,
   "id": "9c78a5ba",
   "metadata": {},
   "outputs": [
    {
     "data": {
      "text/plain": [
       "array(['Potter', 'Potter', 'Potter', 'Potter', 'Potter', 'Potter',\n",
       "       'Potter', 'Potter', 'Potter', 'Potter', 'Potter', 'Potter',\n",
       "       'Potter', 'Potter', 'Potter', 'Potter', 'Potter', 'Potter',\n",
       "       'Potter', 'Potter', 'Potter', 'Potter', 'Potter', 'Potter',\n",
       "       'Potter', 'Potter', 'Potter', 'Potter', 'Potter', 'Potter',\n",
       "       'Potter', 'Potter', 'Potter', 'Potter', 'Potter', 'Potter',\n",
       "       'Potter', 'Potter', 'Potter', 'Potter', 'Potter', 'Potter',\n",
       "       'Potter', 'Potter', 'Potter', 'Potter', 'Potter', 'Potter',\n",
       "       'Potter', 'Potter', 'Potter', 'Potter', 'Potter', 'Potter',\n",
       "       'Potter', 'Potter', 'Potter', 'Potter', 'Potter', 'Potter',\n",
       "       'Potter', 'Potter', 'Potter', 'Potter', 'Potter', 'Potter',\n",
       "       'Potter', 'Potter', 'Potter', 'Potter', 'Potter', 'Potter',\n",
       "       'Potter', 'Potter', 'Potter', 'Potter', 'Potter', 'Potter',\n",
       "       'Potter', 'Potter', 'Potter', 'Potter', 'Potter', 'Potter',\n",
       "       'Potter', 'Potter', 'Potter', 'Potter', 'Potter', 'Potter',\n",
       "       'Potter', 'Potter', 'Potter', 'Potter', 'Potter', 'Potter',\n",
       "       'Potter', 'Potter', 'Potter', 'Potter'], dtype='<U8')"
      ]
     },
     "execution_count": 38,
     "metadata": {},
     "output_type": "execute_result"
    }
   ],
   "source": [
    "y_original_test"
   ]
  },
  {
   "cell_type": "code",
   "execution_count": 33,
   "id": "c55fccef",
   "metadata": {},
   "outputs": [
    {
     "name": "stderr",
     "output_type": "stream",
     "text": [
      "WARNING:absl:You are saving your model as an HDF5 file via `model.save()` or `keras.saving.save_model(model)`. This file format is considered legacy. We recommend using instead the native Keras format, e.g. `model.save('my_model.keras')` or `keras.saving.save_model(model, 'my_model.keras')`. \n"
     ]
    }
   ],
   "source": [
    "# Save the trained model to a file\n",
    "model_3.save('CNN_LSTM_model_0.9.h5')"
   ]
  },
  {
   "cell_type": "code",
   "execution_count": 19,
   "id": "d8472b3d",
   "metadata": {},
   "outputs": [
    {
     "name": "stdout",
     "output_type": "stream",
     "text": [
      "Epoch 1/100\n",
      "\u001b[1m182/182\u001b[0m \u001b[32m━━━━━━━━━━━━━━━━━━━━\u001b[0m\u001b[37m\u001b[0m \u001b[1m53s\u001b[0m 188ms/step - accuracy: 0.3273 - loss: 1.7539 - val_accuracy: 0.6604 - val_loss: 1.0599 - learning_rate: 0.0010\n",
      "Epoch 2/100\n",
      "\u001b[1m182/182\u001b[0m \u001b[32m━━━━━━━━━━━━━━━━━━━━\u001b[0m\u001b[37m\u001b[0m \u001b[1m30s\u001b[0m 164ms/step - accuracy: 0.6437 - loss: 1.0319 - val_accuracy: 0.7531 - val_loss: 0.7517 - learning_rate: 0.0010\n",
      "Epoch 3/100\n",
      "\u001b[1m182/182\u001b[0m \u001b[32m━━━━━━━━━━━━━━━━━━━━\u001b[0m\u001b[37m\u001b[0m \u001b[1m30s\u001b[0m 166ms/step - accuracy: 0.7312 - loss: 0.7803 - val_accuracy: 0.7995 - val_loss: 0.6078 - learning_rate: 0.0010\n",
      "Epoch 4/100\n",
      "\u001b[1m182/182\u001b[0m \u001b[32m━━━━━━━━━━━━━━━━━━━━\u001b[0m\u001b[37m\u001b[0m \u001b[1m30s\u001b[0m 164ms/step - accuracy: 0.7917 - loss: 0.5995 - val_accuracy: 0.8158 - val_loss: 0.5406 - learning_rate: 0.0010\n",
      "Epoch 5/100\n",
      "\u001b[1m182/182\u001b[0m \u001b[32m━━━━━━━━━━━━━━━━━━━━\u001b[0m\u001b[37m\u001b[0m \u001b[1m31s\u001b[0m 166ms/step - accuracy: 0.8274 - loss: 0.5165 - val_accuracy: 0.8434 - val_loss: 0.5213 - learning_rate: 0.0010\n",
      "Epoch 6/100\n",
      "\u001b[1m182/182\u001b[0m \u001b[32m━━━━━━━━━━━━━━━━━━━━\u001b[0m\u001b[37m\u001b[0m \u001b[1m30s\u001b[0m 166ms/step - accuracy: 0.8583 - loss: 0.4213 - val_accuracy: 0.8484 - val_loss: 0.4958 - learning_rate: 0.0010\n",
      "Epoch 7/100\n",
      "\u001b[1m182/182\u001b[0m \u001b[32m━━━━━━━━━━━━━━━━━━━━\u001b[0m\u001b[37m\u001b[0m \u001b[1m30s\u001b[0m 164ms/step - accuracy: 0.8794 - loss: 0.3625 - val_accuracy: 0.8559 - val_loss: 0.4675 - learning_rate: 0.0010\n",
      "Epoch 8/100\n",
      "\u001b[1m182/182\u001b[0m \u001b[32m━━━━━━━━━━━━━━━━━━━━\u001b[0m\u001b[37m\u001b[0m \u001b[1m30s\u001b[0m 164ms/step - accuracy: 0.8901 - loss: 0.3412 - val_accuracy: 0.8647 - val_loss: 0.4411 - learning_rate: 0.0010\n",
      "Epoch 9/100\n",
      "\u001b[1m182/182\u001b[0m \u001b[32m━━━━━━━━━━━━━━━━━━━━\u001b[0m\u001b[37m\u001b[0m \u001b[1m30s\u001b[0m 164ms/step - accuracy: 0.9029 - loss: 0.2876 - val_accuracy: 0.8647 - val_loss: 0.4501 - learning_rate: 0.0010\n",
      "Epoch 10/100\n",
      "\u001b[1m182/182\u001b[0m \u001b[32m━━━━━━━━━━━━━━━━━━━━\u001b[0m\u001b[37m\u001b[0m \u001b[1m30s\u001b[0m 161ms/step - accuracy: 0.9101 - loss: 0.2564 - val_accuracy: 0.8534 - val_loss: 0.5658 - learning_rate: 0.0010\n",
      "Epoch 11/100\n",
      "\u001b[1m182/182\u001b[0m \u001b[32m━━━━━━━━━━━━━━━━━━━━\u001b[0m\u001b[37m\u001b[0m \u001b[1m30s\u001b[0m 164ms/step - accuracy: 0.9163 - loss: 0.2427 - val_accuracy: 0.8609 - val_loss: 0.5304 - learning_rate: 0.0010\n",
      "Epoch 12/100\n",
      "\u001b[1m182/182\u001b[0m \u001b[32m━━━━━━━━━━━━━━━━━━━━\u001b[0m\u001b[37m\u001b[0m \u001b[1m30s\u001b[0m 166ms/step - accuracy: 0.9272 - loss: 0.2144 - val_accuracy: 0.8596 - val_loss: 0.5275 - learning_rate: 0.0010\n",
      "Epoch 13/100\n",
      "\u001b[1m182/182\u001b[0m \u001b[32m━━━━━━━━━━━━━━━━━━━━\u001b[0m\u001b[37m\u001b[0m \u001b[1m30s\u001b[0m 163ms/step - accuracy: 0.9394 - loss: 0.1839 - val_accuracy: 0.8822 - val_loss: 0.4464 - learning_rate: 0.0010\n",
      "Epoch 14/100\n",
      "\u001b[1m182/182\u001b[0m \u001b[32m━━━━━━━━━━━━━━━━━━━━\u001b[0m\u001b[37m\u001b[0m \u001b[1m30s\u001b[0m 164ms/step - accuracy: 0.9512 - loss: 0.1385 - val_accuracy: 0.8960 - val_loss: 0.4202 - learning_rate: 2.0000e-04\n",
      "Epoch 15/100\n",
      "\u001b[1m182/182\u001b[0m \u001b[32m━━━━━━━━━━━━━━━━━━━━\u001b[0m\u001b[37m\u001b[0m \u001b[1m30s\u001b[0m 165ms/step - accuracy: 0.9713 - loss: 0.0820 - val_accuracy: 0.8972 - val_loss: 0.4355 - learning_rate: 2.0000e-04\n",
      "Epoch 16/100\n",
      "\u001b[1m182/182\u001b[0m \u001b[32m━━━━━━━━━━━━━━━━━━━━\u001b[0m\u001b[37m\u001b[0m \u001b[1m30s\u001b[0m 164ms/step - accuracy: 0.9800 - loss: 0.0636 - val_accuracy: 0.8960 - val_loss: 0.4519 - learning_rate: 2.0000e-04\n",
      "Epoch 17/100\n",
      "\u001b[1m182/182\u001b[0m \u001b[32m━━━━━━━━━━━━━━━━━━━━\u001b[0m\u001b[37m\u001b[0m \u001b[1m30s\u001b[0m 164ms/step - accuracy: 0.9804 - loss: 0.0583 - val_accuracy: 0.8972 - val_loss: 0.4924 - learning_rate: 2.0000e-04\n",
      "Epoch 18/100\n",
      "\u001b[1m182/182\u001b[0m \u001b[32m━━━━━━━━━━━━━━━━━━━━\u001b[0m\u001b[37m\u001b[0m \u001b[1m30s\u001b[0m 164ms/step - accuracy: 0.9810 - loss: 0.0537 - val_accuracy: 0.8972 - val_loss: 0.5078 - learning_rate: 2.0000e-04\n",
      "Epoch 19/100\n",
      "\u001b[1m182/182\u001b[0m \u001b[32m━━━━━━━━━━━━━━━━━━━━\u001b[0m\u001b[37m\u001b[0m \u001b[1m30s\u001b[0m 163ms/step - accuracy: 0.9855 - loss: 0.0449 - val_accuracy: 0.8935 - val_loss: 0.5810 - learning_rate: 2.0000e-04\n",
      "Epoch 20/100\n",
      "\u001b[1m182/182\u001b[0m \u001b[32m━━━━━━━━━━━━━━━━━━━━\u001b[0m\u001b[37m\u001b[0m \u001b[1m30s\u001b[0m 163ms/step - accuracy: 0.9876 - loss: 0.0406 - val_accuracy: 0.8997 - val_loss: 0.5561 - learning_rate: 4.0000e-05\n",
      "Epoch 21/100\n",
      "\u001b[1m182/182\u001b[0m \u001b[32m━━━━━━━━━━━━━━━━━━━━\u001b[0m\u001b[37m\u001b[0m \u001b[1m30s\u001b[0m 163ms/step - accuracy: 0.9886 - loss: 0.0349 - val_accuracy: 0.8985 - val_loss: 0.5489 - learning_rate: 4.0000e-05\n",
      "Epoch 22/100\n",
      "\u001b[1m182/182\u001b[0m \u001b[32m━━━━━━━━━━━━━━━━━━━━\u001b[0m\u001b[37m\u001b[0m \u001b[1m29s\u001b[0m 160ms/step - accuracy: 0.9884 - loss: 0.0362 - val_accuracy: 0.8985 - val_loss: 0.5525 - learning_rate: 4.0000e-05\n",
      "Epoch 23/100\n",
      "\u001b[1m182/182\u001b[0m \u001b[32m━━━━━━━━━━━━━━━━━━━━\u001b[0m\u001b[37m\u001b[0m \u001b[1m30s\u001b[0m 161ms/step - accuracy: 0.9899 - loss: 0.0312 - val_accuracy: 0.8997 - val_loss: 0.5484 - learning_rate: 4.0000e-05\n",
      "Epoch 24/100\n",
      "\u001b[1m182/182\u001b[0m \u001b[32m━━━━━━━━━━━━━━━━━━━━\u001b[0m\u001b[37m\u001b[0m \u001b[1m30s\u001b[0m 163ms/step - accuracy: 0.9921 - loss: 0.0300 - val_accuracy: 0.9035 - val_loss: 0.5471 - learning_rate: 4.0000e-05\n",
      "\u001b[1m25/25\u001b[0m \u001b[32m━━━━━━━━━━━━━━━━━━━━\u001b[0m\u001b[37m\u001b[0m \u001b[1m1s\u001b[0m 41ms/step - accuracy: 0.9101 - loss: 0.3070\n",
      "Test Accuracy: 0.8959899544715881\n"
     ]
    }
   ],
   "source": [
    "# Increase the model capacity and add more layers\n",
    "model_4 = models.Sequential([\n",
    "    layers.Conv1D(64, 5, activation='leaky_relu', input_shape=input_shape),\n",
    "    layers.BatchNormalization(),\n",
    "    layers.MaxPooling1D(2),\n",
    "    layers.Dropout(0.2),\n",
    "    layers.Conv1D(128, 5, activation='leaky_relu'),\n",
    "    layers.BatchNormalization(),\n",
    "    layers.MaxPooling1D(2),\n",
    "    layers.Dropout(0.2),\n",
    "    layers.Conv1D(256, 5, activation='leaky_relu'),\n",
    "    layers.BatchNormalization(),\n",
    "    layers.MaxPooling1D(2),\n",
    "    layers.Dropout(0.2),\n",
    "    layers.Reshape((-1, 256)),\n",
    "    layers.Bidirectional(layers.LSTM(128, return_sequences=True)),\n",
    "    layers.Bidirectional(layers.LSTM(64)),\n",
    "    layers.Dense(512, activation='relu'),\n",
    "    layers.Dropout(0.3),  # Add another dropout layer\n",
    "    layers.Dense(256, activation='relu'),\n",
    "    layers.Dense(8, activation='softmax')  # num_classes is the number of unique song names\n",
    "])\n",
    "\n",
    "# Use a different optimizer and learning rate\n",
    "optimizer = optimizers.Adam(learning_rate=0.001)\n",
    "\n",
    "# Compile the model\n",
    "model_4.compile(optimizer=optimizer, loss='categorical_crossentropy', metrics=['accuracy'])\n",
    "\n",
    "# Implement early stopping and reduce learning rate on plateau\n",
    "early_stopping = callbacks.EarlyStopping(monitor='val_loss', patience=10, restore_best_weights=True)\n",
    "reduce_lr = callbacks.ReduceLROnPlateau(monitor='val_loss', factor=0.2, patience=5, min_lr=1e-6)\n",
    "\n",
    "\n",
    "# Train the model\n",
    "history = model_4.fit(X_train, y_train, epochs=100, batch_size=64, validation_data=(X_test, y_test),\n",
    "                      callbacks=[early_stopping, reduce_lr])\n",
    "\n",
    "# Evaluate the model on the test set\n",
    "test_loss, test_accuracy = model_4.evaluate(X_test, y_test)\n",
    "print(\"Test Accuracy:\", test_accuracy)"
   ]
  },
  {
   "cell_type": "code",
   "execution_count": 20,
   "id": "fd53c510",
   "metadata": {},
   "outputs": [
    {
     "data": {
      "image/png": "[encoded data removed]",
      "text/plain": [
       "<Figure size 640x480 with 1 Axes>"
      ]
     },
     "metadata": {},
     "output_type": "display_data"
    },
    {
     "data": {
      "image/png": "[encoded data removed]",
      "text/plain": [
       "<Figure size 640x480 with 1 Axes>"
      ]
     },
     "metadata": {},
     "output_type": "display_data"
    }
   ],
   "source": [
    "plt.plot(history.history['accuracy'])\n",
    "plt.plot(history.history['val_accuracy'])\n",
    "plt.title('Model Accuracy')\n",
    "plt.ylabel('Accuracy')\n",
    "plt.xlabel('Epoch')\n",
    "plt.legend(['Train', 'Validation'], loc='upper left')\n",
    "plt.show()\n",
    "\n",
    "plt.plot(history.history['loss'])\n",
    "plt.plot(history.history['val_loss'])\n",
    "plt.title('Model Loss')\n",
    "plt.ylabel('Loss')\n",
    "plt.xlabel('Epoch')\n",
    "plt.legend(['Train', 'Validation'], loc='upper left')\n",
    "plt.show()"
   ]
  },
  {
   "cell_type": "code",
   "execution_count": 39,
   "id": "9eb98a5e",
   "metadata": {},
   "outputs": [
    {
     "name": "stdout",
     "output_type": "stream",
     "text": [
      "WARNING:tensorflow:5 out of the last 9 calls to <function TensorFlowTrainer.make_predict_function.<locals>.one_step_on_data_distributed at 0x000001FC3B177420> triggered tf.function retracing. Tracing is expensive and the excessive number of tracings could be due to (1) creating @tf.function repeatedly in a loop, (2) passing tensors with different shapes, (3) passing Python objects instead of tensors. For (1), please define your @tf.function outside of the loop. For (2), @tf.function has reduce_retracing=True option that can avoid unnecessary retracing. For (3), please refer to https://www.tensorflow.org/guide/function#controlling_retracing and https://www.tensorflow.org/api_docs/python/tf/function for  more details.\n"
     ]
    },
    {
     "name": "stderr",
     "output_type": "stream",
     "text": [
      "WARNING:tensorflow:5 out of the last 9 calls to <function TensorFlowTrainer.make_predict_function.<locals>.one_step_on_data_distributed at 0x000001FC3B177420> triggered tf.function retracing. Tracing is expensive and the excessive number of tracings could be due to (1) creating @tf.function repeatedly in a loop, (2) passing tensors with different shapes, (3) passing Python objects instead of tensors. For (1), please define your @tf.function outside of the loop. For (2), @tf.function has reduce_retracing=True option that can avoid unnecessary retracing. For (3), please refer to https://www.tensorflow.org/guide/function#controlling_retracing and https://www.tensorflow.org/api_docs/python/tf/function for  more details.\n"
     ]
    },
    {
     "name": "stdout",
     "output_type": "stream",
     "text": [
      "\u001b[1m3/4\u001b[0m \u001b[32m━━━━━━━━━━━━━━━\u001b[0m\u001b[37m━━━━━\u001b[0m \u001b[1m0s\u001b[0m 52ms/stepWARNING:tensorflow:6 out of the last 12 calls to <function TensorFlowTrainer.make_predict_function.<locals>.one_step_on_data_distributed at 0x000001FC3B177420> triggered tf.function retracing. Tracing is expensive and the excessive number of tracings could be due to (1) creating @tf.function repeatedly in a loop, (2) passing tensors with different shapes, (3) passing Python objects instead of tensors. For (1), please define your @tf.function outside of the loop. For (2), @tf.function has reduce_retracing=True option that can avoid unnecessary retracing. For (3), please refer to https://www.tensorflow.org/guide/function#controlling_retracing and https://www.tensorflow.org/api_docs/python/tf/function for  more details.\n"
     ]
    },
    {
     "name": "stderr",
     "output_type": "stream",
     "text": [
      "WARNING:tensorflow:6 out of the last 12 calls to <function TensorFlowTrainer.make_predict_function.<locals>.one_step_on_data_distributed at 0x000001FC3B177420> triggered tf.function retracing. Tracing is expensive and the excessive number of tracings could be due to (1) creating @tf.function repeatedly in a loop, (2) passing tensors with different shapes, (3) passing Python objects instead of tensors. For (1), please define your @tf.function outside of the loop. For (2), @tf.function has reduce_retracing=True option that can avoid unnecessary retracing. For (3), please refer to https://www.tensorflow.org/guide/function#controlling_retracing and https://www.tensorflow.org/api_docs/python/tf/function for  more details.\n"
     ]
    },
    {
     "name": "stdout",
     "output_type": "stream",
     "text": [
      "\u001b[1m4/4\u001b[0m \u001b[32m━━━━━━━━━━━━━━━━━━━━\u001b[0m\u001b[37m\u001b[0m \u001b[1m9s\u001b[0m 2s/step \n"
     ]
    }
   ],
   "source": [
    "y_decoded = np.argmax(model_4.predict(X_test[0:100]), axis=1)  # Get the index of the highest value in each row\n",
    "y_original_predict = labelencoder.inverse_transform(y_decoded)"
   ]
  },
  {
   "cell_type": "code",
   "execution_count": 40,
   "id": "fe94b8ed",
   "metadata": {},
   "outputs": [],
   "source": [
    "y_decoded_test = np.argmax(y_test[100:200], axis=1)  # Get the index of the highest value in each row\n",
    "y_original_test = labelencoder.inverse_transform(y_decoded_test)"
   ]
  },
  {
   "cell_type": "code",
   "execution_count": 41,
   "id": "8670985d",
   "metadata": {},
   "outputs": [
    {
     "data": {
      "text/plain": [
       "array(['Potter', 'Potter', 'Potter', 'Mamma', 'Potter', 'Potter',\n",
       "       'Potter', 'Potter', 'StarWars', 'Potter', 'Potter', 'Potter',\n",
       "       'Potter', 'Potter', 'Potter', 'Potter', 'Potter', 'Potter',\n",
       "       'Potter', 'Potter', 'Potter', 'Potter', 'Mamma', 'Potter',\n",
       "       'Potter', 'Potter', 'Potter', 'Potter', 'Potter', 'Potter',\n",
       "       'Potter', 'Potter', 'Potter', 'Potter', 'Potter', 'Potter',\n",
       "       'Potter', 'Rain', 'Potter', 'Potter', 'Potter', 'Potter', 'Potter',\n",
       "       'Potter', 'Potter', 'Potter', 'Potter', 'Potter', 'Potter',\n",
       "       'Potter', 'Potter', 'Potter', 'Potter', 'Potter', 'Potter',\n",
       "       'Potter', 'Potter', 'Potter', 'Potter', 'Potter', 'Potter',\n",
       "       'Potter', 'Potter', 'Potter', 'Potter', 'Potter', 'Potter',\n",
       "       'Potter', 'Potter', 'Potter', 'Potter', 'Potter', 'Potter',\n",
       "       'Potter', 'Showman', 'Potter', 'Potter', 'Potter', 'Potter',\n",
       "       'Potter', 'Potter', 'Potter', 'Potter', 'Potter', 'Potter',\n",
       "       'Potter', 'Potter', 'Potter', 'Potter', 'Potter', 'StarWars',\n",
       "       'Potter', 'Potter', 'Potter', 'Potter', 'Potter', 'Potter',\n",
       "       'Potter', 'Potter', 'StarWars'], dtype='<U8')"
      ]
     },
     "execution_count": 41,
     "metadata": {},
     "output_type": "execute_result"
    }
   ],
   "source": [
    "y_original_predict"
   ]
  },
  {
   "cell_type": "code",
   "execution_count": null,
   "id": "98f2889c",
   "metadata": {},
   "outputs": [],
   "source": []
  }
 ],
 "metadata": {
  "kernelspec": {
   "display_name": "Python 3 (ipykernel)",
   "language": "python",
   "name": "python3"
  },
  "language_info": {
   "codemirror_mode": {
    "name": "ipython",
    "version": 3
   },
   "file_extension": ".py",
   "mimetype": "text/x-python",
   "name": "python",
   "nbconvert_exporter": "python",
   "pygments_lexer": "ipython3",
   "version": "3.11.5"
  }
 },
 "nbformat": 4,
 "nbformat_minor": 5
}
